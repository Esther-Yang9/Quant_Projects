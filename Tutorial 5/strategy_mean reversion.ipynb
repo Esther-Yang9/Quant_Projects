{
 "cells": [
  {
   "cell_type": "code",
   "execution_count": 17,
   "metadata": {},
   "outputs": [],
   "source": [
    "import sys\n",
    "import os\n",
    "\n",
    "import ccxt\n",
    "import backtesting as bt\n",
    "from backtesting import Backtest, Strategy\n",
    "import talib\n",
    "import pandas_ta as ta\n",
    "\n",
    "import pandas as pd\n",
    "import numpy as np"
   ]
  },
  {
   "cell_type": "code",
   "execution_count": 18,
   "metadata": {},
   "outputs": [],
   "source": [
    "\n",
    "def get_data(symbol, timeframe, limit):\n",
    "    exchange = ccxt.kraken()\n",
    "    exchange.load_markets()\n",
    "\n",
    "    data = exchange.fetch_ohlcv('BTC/USDT', timeframe=timeframe, limit=limit)\n",
    "    df = pd.DataFrame(data, columns=['timestamp', 'open', 'high', 'low', 'close', 'volume']).rename(columns={\n",
    "        'timestamp': 'timestamp',\n",
    "        'open': 'Open',\n",
    "        'high': 'High',\n",
    "        'low': 'Low',\n",
    "        'close': 'Close',\n",
    "        'volume': 'Volume'\n",
    "    })\n",
    "    df['timestamp'] = pd.to_datetime(df['timestamp'], unit='ms')\n",
    "    df.set_index('timestamp', inplace=True)\n",
    "    return df"
   ]
  },
  {
   "cell_type": "code",
   "execution_count": 19,
   "metadata": {},
   "outputs": [],
   "source": [
    "data = get_data('BTC/USDT', '1h', 1000)"
   ]
  },
  {
   "cell_type": "markdown",
   "metadata": {},
   "source": [
    "# BBands"
   ]
  },
  {
   "cell_type": "code",
   "execution_count": 20,
   "metadata": {},
   "outputs": [],
   "source": [
    "\n",
    "class BBANDS_strategy_v1(Strategy):\n",
    "    ############################ Parameters ####################################\n",
    "    BB_SMA = 20                         # Bollinger bands SMA\n",
    "    BB_STD = 2                        # Bollinger bands standard deviation\n",
    "    BB_MAX_BANDWIDTH = 5                # Bollinger bands maximum volatility allowed\n",
    "    \n",
    "    min_volatility = 0.3\n",
    "    max_buy_perc = 0.2\n",
    "    min_sell_perc = 0.25\n",
    "\n",
    "    ############################ Utilities ####################################\n",
    "    # For logging\n",
    "    def log(self, txt, dt=None):\n",
    "        dt = dt or self.data.index[-1]\n",
    "        # print(f'{dt.strftime(\"%Y-%m-%d %H:%M:%S\")}: {txt}')\n",
    "    \n",
    "    ############################ Strategy: Calculate the indicators ####################################\n",
    "\n",
    "    def init(self):\n",
    "        \n",
    "        # print(f\"BB_SMA: {self.BB_SMA}, BB_STD: {self.BB_STD}, BB_MAX_BANDWIDTH: {self.BB_MAX_BANDWIDTH}\")\n",
    "        # print(f\"min_volatility: {self.min_volatility}, max_buy_perc: {self.max_buy_perc}, min_sell_perc: {self.min_sell_perc}\")\n",
    "        \n",
    "        self.upper = self.I(lambda df, length, std: df.ta.bbands(close = df['Close'], length=length, std=std).iloc[:, 2],\n",
    "                            self.data.df, self.BB_SMA, self.BB_STD, name='upper')\n",
    "        \n",
    "        self.lower = self.I(lambda df, length, std: df.ta.bbands(close = df['Close'], length=length, std=std).iloc[:, 0],\n",
    "                            self.data.df, self.BB_SMA, self.BB_STD, name='lower')\n",
    "        \n",
    "        self.volatility = self.I(lambda df, length, std: df.ta.bbands(close = df['Close'], length=length, std=std).iloc[:, 1],\n",
    "                                 self.data.df, self.BB_SMA, self.BB_STD, name='volatility', plot=True, overlay=False)\n",
    "\n",
    "        self.high_limit = self.I(lambda upper, lower: upper + (upper - lower) / 2, self.upper, self.lower, name='high_limit')\n",
    "        self.low_limit = self.I(lambda upper, lower: lower - (upper - lower) / 2, self.upper, self.lower, name='low_limit')\n",
    "        self.close_percentage = self.I(lambda close, low_limit, high_limit: np.clip((close - low_limit) / (high_limit - low_limit), 0, 1), self.data.df['Close'], self.low_limit, self.high_limit, name='close_percentage')\n",
    "        self.volatility_scaled = self.I(lambda volatility: np.clip(volatility / (100 / self.BB_MAX_BANDWIDTH), 0, 1), self.volatility, name='volatility_scaled')\n",
    "        \n",
    "        self.buy_signal = self.I(lambda volatility_scaled, close_percentage: (volatility_scaled > self.min_volatility) & (close_percentage < self.max_buy_perc), self.volatility_scaled, self.close_percentage, name='buy_signal')\n",
    "        self.sell_signal = self.I(lambda close_percentage: (close_percentage > self.min_sell_perc), self.close_percentage, name='sell_signal')\n",
    "    \n",
    "    \n",
    "\n",
    "    def next(self):\n",
    "        \n",
    "        self.log(f\"Close: {self.data.Close[-1]}, position: {self.position.size}, cash: {self._broker.margin_available}\")\n",
    "        \n",
    "        if self.position.size == 0:\n",
    "            if self.buy_signal[-1]:\n",
    "                self.log(\"BUY\")\n",
    "                self.buy()\n",
    "                \n",
    "        elif self.position.size > 0:\n",
    "            if self.sell_signal[-1]:\n",
    "                self.log(\"SELL\")\n",
    "                self.trades[0].close()"
   ]
  },
  {
   "cell_type": "code",
   "execution_count": 21,
   "metadata": {},
   "outputs": [
    {
     "data": {
      "text/html": [
       "<div style=\"display: table;\"><div style=\"display: table-row;\"><div style=\"display: table-cell;\"><b title=\"bokeh.models.layouts.Row\">Row</b>(</div><div style=\"display: table-cell;\">id&nbsp;=&nbsp;'9949', <span id=\"10872\" style=\"cursor: pointer;\">&hellip;)</span></div></div><div class=\"10871\" style=\"display: none;\"><div style=\"display: table-cell;\"></div><div style=\"display: table-cell;\">align&nbsp;=&nbsp;'start',</div></div><div class=\"10871\" style=\"display: none;\"><div style=\"display: table-cell;\"></div><div style=\"display: table-cell;\">aspect_ratio&nbsp;=&nbsp;None,</div></div><div class=\"10871\" style=\"display: none;\"><div style=\"display: table-cell;\"></div><div style=\"display: table-cell;\">background&nbsp;=&nbsp;None,</div></div><div class=\"10871\" style=\"display: none;\"><div style=\"display: table-cell;\"></div><div style=\"display: table-cell;\">children&nbsp;=&nbsp;[GridBox(id='9946', ...), ToolbarBox(id='9948', ...)],</div></div><div class=\"10871\" style=\"display: none;\"><div style=\"display: table-cell;\"></div><div style=\"display: table-cell;\">cols&nbsp;=&nbsp;'auto',</div></div><div class=\"10871\" style=\"display: none;\"><div style=\"display: table-cell;\"></div><div style=\"display: table-cell;\">css_classes&nbsp;=&nbsp;[],</div></div><div class=\"10871\" style=\"display: none;\"><div style=\"display: table-cell;\"></div><div style=\"display: table-cell;\">disabled&nbsp;=&nbsp;False,</div></div><div class=\"10871\" style=\"display: none;\"><div style=\"display: table-cell;\"></div><div style=\"display: table-cell;\">height&nbsp;=&nbsp;None,</div></div><div class=\"10871\" style=\"display: none;\"><div style=\"display: table-cell;\"></div><div style=\"display: table-cell;\">height_policy&nbsp;=&nbsp;'auto',</div></div><div class=\"10871\" style=\"display: none;\"><div style=\"display: table-cell;\"></div><div style=\"display: table-cell;\">js_event_callbacks&nbsp;=&nbsp;{},</div></div><div class=\"10871\" style=\"display: none;\"><div style=\"display: table-cell;\"></div><div style=\"display: table-cell;\">js_property_callbacks&nbsp;=&nbsp;{},</div></div><div class=\"10871\" style=\"display: none;\"><div style=\"display: table-cell;\"></div><div style=\"display: table-cell;\">margin&nbsp;=&nbsp;(0, 0, 0, 0),</div></div><div class=\"10871\" style=\"display: none;\"><div style=\"display: table-cell;\"></div><div style=\"display: table-cell;\">max_height&nbsp;=&nbsp;None,</div></div><div class=\"10871\" style=\"display: none;\"><div style=\"display: table-cell;\"></div><div style=\"display: table-cell;\">max_width&nbsp;=&nbsp;None,</div></div><div class=\"10871\" style=\"display: none;\"><div style=\"display: table-cell;\"></div><div style=\"display: table-cell;\">min_height&nbsp;=&nbsp;None,</div></div><div class=\"10871\" style=\"display: none;\"><div style=\"display: table-cell;\"></div><div style=\"display: table-cell;\">min_width&nbsp;=&nbsp;None,</div></div><div class=\"10871\" style=\"display: none;\"><div style=\"display: table-cell;\"></div><div style=\"display: table-cell;\">name&nbsp;=&nbsp;None,</div></div><div class=\"10871\" style=\"display: none;\"><div style=\"display: table-cell;\"></div><div style=\"display: table-cell;\">sizing_mode&nbsp;=&nbsp;'stretch_width',</div></div><div class=\"10871\" style=\"display: none;\"><div style=\"display: table-cell;\"></div><div style=\"display: table-cell;\">spacing&nbsp;=&nbsp;0,</div></div><div class=\"10871\" style=\"display: none;\"><div style=\"display: table-cell;\"></div><div style=\"display: table-cell;\">subscribed_events&nbsp;=&nbsp;[],</div></div><div class=\"10871\" style=\"display: none;\"><div style=\"display: table-cell;\"></div><div style=\"display: table-cell;\">syncable&nbsp;=&nbsp;True,</div></div><div class=\"10871\" style=\"display: none;\"><div style=\"display: table-cell;\"></div><div style=\"display: table-cell;\">tags&nbsp;=&nbsp;[],</div></div><div class=\"10871\" style=\"display: none;\"><div style=\"display: table-cell;\"></div><div style=\"display: table-cell;\">visible&nbsp;=&nbsp;True,</div></div><div class=\"10871\" style=\"display: none;\"><div style=\"display: table-cell;\"></div><div style=\"display: table-cell;\">width&nbsp;=&nbsp;None,</div></div><div class=\"10871\" style=\"display: none;\"><div style=\"display: table-cell;\"></div><div style=\"display: table-cell;\">width_policy&nbsp;=&nbsp;'auto')</div></div></div>\n",
       "<script>\n",
       "(function() {\n",
       "  var expanded = false;\n",
       "  var ellipsis = document.getElementById(\"10872\");\n",
       "  ellipsis.addEventListener(\"click\", function() {\n",
       "    var rows = document.getElementsByClassName(\"10871\");\n",
       "    for (var i = 0; i < rows.length; i++) {\n",
       "      var el = rows[i];\n",
       "      el.style.display = expanded ? \"none\" : \"table-row\";\n",
       "    }\n",
       "    ellipsis.innerHTML = expanded ? \"&hellip;)\" : \"&lsaquo;&lsaquo;&lsaquo;\";\n",
       "    expanded = !expanded;\n",
       "  });\n",
       "})();\n",
       "</script>\n"
      ],
      "text/plain": [
       "Row(id='9949', ...)"
      ]
     },
     "execution_count": 21,
     "metadata": {},
     "output_type": "execute_result"
    }
   ],
   "source": [
    "# BBANDS_strategy.BB_SMA = 40\n",
    "# BBANDS_strategy.BB_STD = 2\n",
    "# BBANDS_strategy.BB_MAX_BANDWIDTH = 9\n",
    "# BBANDS_strategy.min_volatility = 0.6\n",
    "# BBANDS_strategy.max_buy_perc = 0.3\n",
    "# BBANDS_strategy.min_sell_perc = 0.2\n",
    "\n",
    "bt = Backtest(\n",
    "    data, \n",
    "    BBANDS_strategy_v1,\n",
    "    commission=0.00075, \n",
    "    cash=100000, \n",
    "    )\n",
    "\n",
    "strat = bt.run()\n",
    "bt.plot()"
   ]
  },
  {
   "cell_type": "code",
   "execution_count": 22,
   "metadata": {},
   "outputs": [
    {
     "data": {
      "text/plain": [
       "Start                     2024-04-20 03:00:00\n",
       "End                       2024-05-20 02:00:00\n",
       "Duration                     29 days 23:00:00\n",
       "Exposure Time [%]                    6.111111\n",
       "Equity Final [$]                 98902.030775\n",
       "Equity Peak [$]                      100000.0\n",
       "Return [%]                          -1.097969\n",
       "Buy & Hold Return [%]                4.221961\n",
       "Return (Ann.) [%]                  -12.189752\n",
       "Volatility (Ann.) [%]                2.480163\n",
       "Sharpe Ratio                              0.0\n",
       "Sortino Ratio                             0.0\n",
       "Calmar Ratio                              0.0\n",
       "Max. Drawdown [%]                    -1.37474\n",
       "Avg. Drawdown [%]                    -1.37474\n",
       "Max. Drawdown Duration       25 days 12:00:00\n",
       "Avg. Drawdown Duration       25 days 12:00:00\n",
       "# Trades                                   12\n",
       "Win Rate [%]                        41.666667\n",
       "Best Trade [%]                       0.360375\n",
       "Worst Trade [%]                     -0.678263\n",
       "Avg. Trade [%]                      -0.145755\n",
       "Max. Trade Duration           0 days 04:00:00\n",
       "Avg. Trade Duration           0 days 03:00:00\n",
       "Profit Factor                        0.416044\n",
       "Expectancy [%]                      -0.145087\n",
       "SQN                                 -1.331306\n",
       "_strategy                  BBANDS_strategy_v1\n",
       "_equity_curve                             ...\n",
       "_trades                       Size  EntryB...\n",
       "dtype: object"
      ]
     },
     "execution_count": 22,
     "metadata": {},
     "output_type": "execute_result"
    }
   ],
   "source": [
    "strat"
   ]
  },
  {
   "cell_type": "markdown",
   "metadata": {},
   "source": [
    "## Optimization"
   ]
  },
  {
   "cell_type": "code",
   "execution_count": 24,
   "metadata": {},
   "outputs": [
    {
     "ename": "RuntimeError",
     "evalue": "context has already been set",
     "output_type": "error",
     "traceback": [
      "\u001b[0;31m---------------------------------------------------------------------------\u001b[0m",
      "\u001b[0;31mRuntimeError\u001b[0m                              Traceback (most recent call last)",
      "Cell \u001b[0;32mIn[24], line 2\u001b[0m\n\u001b[1;32m      1\u001b[0m \u001b[38;5;28;01mimport\u001b[39;00m \u001b[38;5;21;01mmultiprocessing\u001b[39;00m \u001b[38;5;28;01mas\u001b[39;00m \u001b[38;5;21;01mmp\u001b[39;00m\n\u001b[0;32m----> 2\u001b[0m \u001b[43mmp\u001b[49m\u001b[38;5;241;43m.\u001b[39;49m\u001b[43mset_start_method\u001b[49m\u001b[43m(\u001b[49m\u001b[38;5;124;43m'\u001b[39;49m\u001b[38;5;124;43mfork\u001b[39;49m\u001b[38;5;124;43m'\u001b[39;49m\u001b[43m)\u001b[49m\n",
      "File \u001b[0;32m~/anaconda3/envs/tokenmetrics/lib/python3.10/multiprocessing/context.py:247\u001b[0m, in \u001b[0;36mDefaultContext.set_start_method\u001b[0;34m(self, method, force)\u001b[0m\n\u001b[1;32m    245\u001b[0m \u001b[38;5;28;01mdef\u001b[39;00m \u001b[38;5;21mset_start_method\u001b[39m(\u001b[38;5;28mself\u001b[39m, method, force\u001b[38;5;241m=\u001b[39m\u001b[38;5;28;01mFalse\u001b[39;00m):\n\u001b[1;32m    246\u001b[0m     \u001b[38;5;28;01mif\u001b[39;00m \u001b[38;5;28mself\u001b[39m\u001b[38;5;241m.\u001b[39m_actual_context \u001b[38;5;129;01mis\u001b[39;00m \u001b[38;5;129;01mnot\u001b[39;00m \u001b[38;5;28;01mNone\u001b[39;00m \u001b[38;5;129;01mand\u001b[39;00m \u001b[38;5;129;01mnot\u001b[39;00m force:\n\u001b[0;32m--> 247\u001b[0m         \u001b[38;5;28;01mraise\u001b[39;00m \u001b[38;5;167;01mRuntimeError\u001b[39;00m(\u001b[38;5;124m'\u001b[39m\u001b[38;5;124mcontext has already been set\u001b[39m\u001b[38;5;124m'\u001b[39m)\n\u001b[1;32m    248\u001b[0m     \u001b[38;5;28;01mif\u001b[39;00m method \u001b[38;5;129;01mis\u001b[39;00m \u001b[38;5;28;01mNone\u001b[39;00m \u001b[38;5;129;01mand\u001b[39;00m force:\n\u001b[1;32m    249\u001b[0m         \u001b[38;5;28mself\u001b[39m\u001b[38;5;241m.\u001b[39m_actual_context \u001b[38;5;241m=\u001b[39m \u001b[38;5;28;01mNone\u001b[39;00m\n",
      "\u001b[0;31mRuntimeError\u001b[0m: context has already been set"
     ]
    }
   ],
   "source": [
    "import multiprocessing as mp\n",
    "mp.set_start_method('fork')"
   ]
  },
  {
   "cell_type": "code",
   "execution_count": 25,
   "metadata": {},
   "outputs": [
    {
     "name": "stderr",
     "output_type": "stream",
     "text": [
      "/Users/cholian/anaconda3/envs/tokenmetrics/lib/python3.10/site-packages/backtesting/backtesting.py:1488: UserWarning: Searching for best of 501 configurations.\n",
      "  output = _optimize_grid()\n"
     ]
    },
    {
     "data": {
      "application/vnd.jupyter.widget-view+json": {
       "model_id": "81eb306322b04b50955ee5de5daa7bf1",
       "version_major": 2,
       "version_minor": 0
      },
      "text/plain": [
       "Backtest.optimize:   0%|          | 0/11 [00:00<?, ?it/s]"
      ]
     },
     "metadata": {},
     "output_type": "display_data"
    },
    {
     "name": "stderr",
     "output_type": "stream",
     "text": [
      "/Users/cholian/anaconda3/envs/tokenmetrics/lib/python3.10/site-packages/backtesting/_stats.py:122: RuntimeWarning: divide by zero encountered in scalar divide\n",
      "  s.loc['Sortino Ratio'] = np.clip((annualized_return - risk_free_rate) / (np.sqrt(np.mean(day_returns.clip(-np.inf, 0)**2)) * np.sqrt(annual_trading_days)), 0, np.inf)  # noqa: E501\n",
      "/Users/cholian/anaconda3/envs/tokenmetrics/lib/python3.10/site-packages/backtesting/_stats.py:122: RuntimeWarning: divide by zero encountered in scalar divide\n",
      "  s.loc['Sortino Ratio'] = np.clip((annualized_return - risk_free_rate) / (np.sqrt(np.mean(day_returns.clip(-np.inf, 0)**2)) * np.sqrt(annual_trading_days)), 0, np.inf)  # noqa: E501\n",
      "/Users/cholian/anaconda3/envs/tokenmetrics/lib/python3.10/site-packages/backtesting/_stats.py:122: RuntimeWarning: divide by zero encountered in scalar divide\n",
      "  s.loc['Sortino Ratio'] = np.clip((annualized_return - risk_free_rate) / (np.sqrt(np.mean(day_returns.clip(-np.inf, 0)**2)) * np.sqrt(annual_trading_days)), 0, np.inf)  # noqa: E501\n",
      "/Users/cholian/anaconda3/envs/tokenmetrics/lib/python3.10/site-packages/backtesting/_stats.py:122: RuntimeWarning: divide by zero encountered in scalar divide\n",
      "  s.loc['Sortino Ratio'] = np.clip((annualized_return - risk_free_rate) / (np.sqrt(np.mean(day_returns.clip(-np.inf, 0)**2)) * np.sqrt(annual_trading_days)), 0, np.inf)  # noqa: E501\n",
      "/Users/cholian/anaconda3/envs/tokenmetrics/lib/python3.10/site-packages/backtesting/_stats.py:122: RuntimeWarning: divide by zero encountered in scalar divide\n",
      "  s.loc['Sortino Ratio'] = np.clip((annualized_return - risk_free_rate) / (np.sqrt(np.mean(day_returns.clip(-np.inf, 0)**2)) * np.sqrt(annual_trading_days)), 0, np.inf)  # noqa: E501\n"
     ]
    }
   ],
   "source": [
    "bt = Backtest(\n",
    "    data, \n",
    "    BBANDS_strategy_v1,\n",
    "    commission=0.00075, \n",
    "    cash=100000, \n",
    "    )\n",
    "\n",
    "stats = bt.optimize(\n",
    "                    BB_SMA=range(10, 70, 5),\n",
    "                    BB_STD=range(1, 10, 2),\n",
    "                    BB_MAX_BANDWIDTH=range(1, 10, 1),\n",
    "                    min_volatility=list(np.arange(0, 0.5, 0.05)),\n",
    "                    max_buy_perc=list(np.arange(0.1, 1, 0.05)),\n",
    "                    min_sell_perc=list(np.arange(0, 0.5, 0.05)),\n",
    "                    maximize='Return [%]',\n",
    "                    max_tries=500,\n",
    "                    random_state=1) \n",
    "\n",
    "# pd.DataFrame(stats)\n",
    "# stats._strategy"
   ]
  },
  {
   "cell_type": "code",
   "execution_count": 26,
   "metadata": {},
   "outputs": [
    {
     "data": {
      "text/plain": [
       "<Strategy BBANDS_strategy_v1(BB_SMA=10,BB_STD=1,BB_MAX_BANDWIDTH=1,min_volatility=0.35000000000000003,max_buy_perc=0.40000000000000013,min_sell_perc=0.45)>"
      ]
     },
     "execution_count": 26,
     "metadata": {},
     "output_type": "execute_result"
    }
   ],
   "source": [
    "stats._strategy"
   ]
  },
  {
   "cell_type": "code",
   "execution_count": 27,
   "metadata": {},
   "outputs": [
    {
     "data": {
      "text/html": [
       "<div style=\"display: table;\"><div style=\"display: table-row;\"><div style=\"display: table-cell;\"><b title=\"bokeh.models.layouts.Row\">Row</b>(</div><div style=\"display: table-cell;\">id&nbsp;=&nbsp;'11675', <span id=\"12598\" style=\"cursor: pointer;\">&hellip;)</span></div></div><div class=\"12597\" style=\"display: none;\"><div style=\"display: table-cell;\"></div><div style=\"display: table-cell;\">align&nbsp;=&nbsp;'start',</div></div><div class=\"12597\" style=\"display: none;\"><div style=\"display: table-cell;\"></div><div style=\"display: table-cell;\">aspect_ratio&nbsp;=&nbsp;None,</div></div><div class=\"12597\" style=\"display: none;\"><div style=\"display: table-cell;\"></div><div style=\"display: table-cell;\">background&nbsp;=&nbsp;None,</div></div><div class=\"12597\" style=\"display: none;\"><div style=\"display: table-cell;\"></div><div style=\"display: table-cell;\">children&nbsp;=&nbsp;[GridBox(id='11672', ...), ToolbarBox(id='11674', ...)],</div></div><div class=\"12597\" style=\"display: none;\"><div style=\"display: table-cell;\"></div><div style=\"display: table-cell;\">cols&nbsp;=&nbsp;'auto',</div></div><div class=\"12597\" style=\"display: none;\"><div style=\"display: table-cell;\"></div><div style=\"display: table-cell;\">css_classes&nbsp;=&nbsp;[],</div></div><div class=\"12597\" style=\"display: none;\"><div style=\"display: table-cell;\"></div><div style=\"display: table-cell;\">disabled&nbsp;=&nbsp;False,</div></div><div class=\"12597\" style=\"display: none;\"><div style=\"display: table-cell;\"></div><div style=\"display: table-cell;\">height&nbsp;=&nbsp;None,</div></div><div class=\"12597\" style=\"display: none;\"><div style=\"display: table-cell;\"></div><div style=\"display: table-cell;\">height_policy&nbsp;=&nbsp;'auto',</div></div><div class=\"12597\" style=\"display: none;\"><div style=\"display: table-cell;\"></div><div style=\"display: table-cell;\">js_event_callbacks&nbsp;=&nbsp;{},</div></div><div class=\"12597\" style=\"display: none;\"><div style=\"display: table-cell;\"></div><div style=\"display: table-cell;\">js_property_callbacks&nbsp;=&nbsp;{},</div></div><div class=\"12597\" style=\"display: none;\"><div style=\"display: table-cell;\"></div><div style=\"display: table-cell;\">margin&nbsp;=&nbsp;(0, 0, 0, 0),</div></div><div class=\"12597\" style=\"display: none;\"><div style=\"display: table-cell;\"></div><div style=\"display: table-cell;\">max_height&nbsp;=&nbsp;None,</div></div><div class=\"12597\" style=\"display: none;\"><div style=\"display: table-cell;\"></div><div style=\"display: table-cell;\">max_width&nbsp;=&nbsp;None,</div></div><div class=\"12597\" style=\"display: none;\"><div style=\"display: table-cell;\"></div><div style=\"display: table-cell;\">min_height&nbsp;=&nbsp;None,</div></div><div class=\"12597\" style=\"display: none;\"><div style=\"display: table-cell;\"></div><div style=\"display: table-cell;\">min_width&nbsp;=&nbsp;None,</div></div><div class=\"12597\" style=\"display: none;\"><div style=\"display: table-cell;\"></div><div style=\"display: table-cell;\">name&nbsp;=&nbsp;None,</div></div><div class=\"12597\" style=\"display: none;\"><div style=\"display: table-cell;\"></div><div style=\"display: table-cell;\">sizing_mode&nbsp;=&nbsp;'stretch_width',</div></div><div class=\"12597\" style=\"display: none;\"><div style=\"display: table-cell;\"></div><div style=\"display: table-cell;\">spacing&nbsp;=&nbsp;0,</div></div><div class=\"12597\" style=\"display: none;\"><div style=\"display: table-cell;\"></div><div style=\"display: table-cell;\">subscribed_events&nbsp;=&nbsp;[],</div></div><div class=\"12597\" style=\"display: none;\"><div style=\"display: table-cell;\"></div><div style=\"display: table-cell;\">syncable&nbsp;=&nbsp;True,</div></div><div class=\"12597\" style=\"display: none;\"><div style=\"display: table-cell;\"></div><div style=\"display: table-cell;\">tags&nbsp;=&nbsp;[],</div></div><div class=\"12597\" style=\"display: none;\"><div style=\"display: table-cell;\"></div><div style=\"display: table-cell;\">visible&nbsp;=&nbsp;True,</div></div><div class=\"12597\" style=\"display: none;\"><div style=\"display: table-cell;\"></div><div style=\"display: table-cell;\">width&nbsp;=&nbsp;None,</div></div><div class=\"12597\" style=\"display: none;\"><div style=\"display: table-cell;\"></div><div style=\"display: table-cell;\">width_policy&nbsp;=&nbsp;'auto')</div></div></div>\n",
       "<script>\n",
       "(function() {\n",
       "  var expanded = false;\n",
       "  var ellipsis = document.getElementById(\"12598\");\n",
       "  ellipsis.addEventListener(\"click\", function() {\n",
       "    var rows = document.getElementsByClassName(\"12597\");\n",
       "    for (var i = 0; i < rows.length; i++) {\n",
       "      var el = rows[i];\n",
       "      el.style.display = expanded ? \"none\" : \"table-row\";\n",
       "    }\n",
       "    ellipsis.innerHTML = expanded ? \"&hellip;)\" : \"&lsaquo;&lsaquo;&lsaquo;\";\n",
       "    expanded = !expanded;\n",
       "  });\n",
       "})();\n",
       "</script>\n"
      ],
      "text/plain": [
       "Row(id='11675', ...)"
      ]
     },
     "execution_count": 27,
     "metadata": {},
     "output_type": "execute_result"
    }
   ],
   "source": [
    "bt = Backtest(\n",
    "    data, \n",
    "    BBANDS_strategy_v1,\n",
    "    commission=0.00075, \n",
    "    cash=100000, \n",
    "    )\n",
    "\n",
    "strat = bt.run( BB_SMA=10, BB_STD=1, BB_MAX_BANDWIDTH=1, min_volatility=0.35, max_buy_perc=0.4, min_sell_perc=0.45)\n",
    "bt.plot()"
   ]
  },
  {
   "cell_type": "code",
   "execution_count": 28,
   "metadata": {},
   "outputs": [
    {
     "data": {
      "text/plain": [
       "Start                     2024-04-20 03:00:00\n",
       "End                       2024-05-20 02:00:00\n",
       "Duration                     29 days 23:00:00\n",
       "Exposure Time [%]                   49.583333\n",
       "Equity Final [$]                101559.018025\n",
       "Equity Peak [$]                 102159.618025\n",
       "Return [%]                           1.559018\n",
       "Buy & Hold Return [%]                4.221961\n",
       "Return (Ann.) [%]                   19.978889\n",
       "Volatility (Ann.) [%]               22.308244\n",
       "Sharpe Ratio                         0.895583\n",
       "Sortino Ratio                        1.401282\n",
       "Calmar Ratio                         3.438202\n",
       "Max. Drawdown [%]                   -5.810854\n",
       "Avg. Drawdown [%]                   -1.019127\n",
       "Max. Drawdown Duration        8 days 00:00:00\n",
       "Avg. Drawdown Duration        1 days 23:00:00\n",
       "# Trades                                   68\n",
       "Win Rate [%]                        76.470588\n",
       "Best Trade [%]                       2.705413\n",
       "Worst Trade [%]                     -4.581494\n",
       "Avg. Trade [%]                       0.036672\n",
       "Max. Trade Duration           0 days 19:00:00\n",
       "Avg. Trade Duration           0 days 05:00:00\n",
       "Profit Factor                        1.143244\n",
       "Expectancy [%]                       0.042601\n",
       "SQN                                  0.278548\n",
       "_strategy                 BBANDS_strategy_...\n",
       "_equity_curve                             ...\n",
       "_trades                       Size  EntryB...\n",
       "dtype: object"
      ]
     },
     "execution_count": 28,
     "metadata": {},
     "output_type": "execute_result"
    }
   ],
   "source": [
    "strat"
   ]
  }
 ],
 "metadata": {
  "kernelspec": {
   "display_name": "tokenmetrics",
   "language": "python",
   "name": "python3"
  },
  "language_info": {
   "codemirror_mode": {
    "name": "ipython",
    "version": 3
   },
   "file_extension": ".py",
   "mimetype": "text/x-python",
   "name": "python",
   "nbconvert_exporter": "python",
   "pygments_lexer": "ipython3",
   "version": "3.10.13"
  }
 },
 "nbformat": 4,
 "nbformat_minor": 2
}
