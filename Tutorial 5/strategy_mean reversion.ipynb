{
 "cells": [
  {
   "cell_type": "code",
   "execution_count": 1,
   "metadata": {},
   "outputs": [],
   "source": [
    "import sys\n",
    "import os\n",
    "\n",
    "import ccxt\n",
    "import backtesting as bt\n",
    "from backtesting import Backtest, Strategy\n",
    "import talib\n",
    "import pandas_ta as ta\n",
    "\n",
    "import pandas as pd\n",
    "import numpy as np"
   ]
  },
  {
   "cell_type": "code",
   "execution_count": 2,
   "metadata": {},
   "outputs": [],
   "source": [
    "\n",
    "def get_data(symbol, timeframe, limit):\n",
    "    exchange = ccxt.kraken()\n",
    "    exchange.load_markets()\n",
    "\n",
    "    data = exchange.fetch_ohlcv('BTC/USDT', timeframe=timeframe, limit=limit)\n",
    "    df = pd.DataFrame(data, columns=['timestamp', 'open', 'high', 'low', 'close', 'volume']).rename(columns={\n",
    "        'timestamp': 'timestamp',\n",
    "        'open': 'Open',\n",
    "        'high': 'High',\n",
    "        'low': 'Low',\n",
    "        'close': 'Close',\n",
    "        'volume': 'Volume'\n",
    "    })\n",
    "    df['timestamp'] = pd.to_datetime(df['timestamp'], unit='ms')\n",
    "    df.set_index('timestamp', inplace=True)\n",
    "    return df"
   ]
  },
  {
   "cell_type": "code",
   "execution_count": 3,
   "metadata": {},
   "outputs": [],
   "source": [
    "data = get_data('BTC/USDT', '1h', 1000)"
   ]
  },
  {
   "cell_type": "code",
   "execution_count": 4,
   "metadata": {},
   "outputs": [
    {
     "data": {
      "text/html": [
       "<div>\n",
       "<style scoped>\n",
       "    .dataframe tbody tr th:only-of-type {\n",
       "        vertical-align: middle;\n",
       "    }\n",
       "\n",
       "    .dataframe tbody tr th {\n",
       "        vertical-align: top;\n",
       "    }\n",
       "\n",
       "    .dataframe thead th {\n",
       "        text-align: right;\n",
       "    }\n",
       "</style>\n",
       "<table border=\"1\" class=\"dataframe\">\n",
       "  <thead>\n",
       "    <tr style=\"text-align: right;\">\n",
       "      <th></th>\n",
       "      <th>Open</th>\n",
       "      <th>High</th>\n",
       "      <th>Low</th>\n",
       "      <th>Close</th>\n",
       "      <th>Volume</th>\n",
       "    </tr>\n",
       "    <tr>\n",
       "      <th>timestamp</th>\n",
       "      <th></th>\n",
       "      <th></th>\n",
       "      <th></th>\n",
       "      <th></th>\n",
       "      <th></th>\n",
       "    </tr>\n",
       "  </thead>\n",
       "  <tbody>\n",
       "    <tr>\n",
       "      <th>2024-04-27 03:00:00</th>\n",
       "      <td>62947.0</td>\n",
       "      <td>63136.9</td>\n",
       "      <td>62841.0</td>\n",
       "      <td>63070.6</td>\n",
       "      <td>3.890570</td>\n",
       "    </tr>\n",
       "    <tr>\n",
       "      <th>2024-04-27 04:00:00</th>\n",
       "      <td>63049.1</td>\n",
       "      <td>63161.5</td>\n",
       "      <td>62957.3</td>\n",
       "      <td>63013.3</td>\n",
       "      <td>0.562865</td>\n",
       "    </tr>\n",
       "    <tr>\n",
       "      <th>2024-04-27 05:00:00</th>\n",
       "      <td>63029.9</td>\n",
       "      <td>63073.0</td>\n",
       "      <td>62857.5</td>\n",
       "      <td>62981.3</td>\n",
       "      <td>0.806780</td>\n",
       "    </tr>\n",
       "    <tr>\n",
       "      <th>2024-04-27 06:00:00</th>\n",
       "      <td>62981.2</td>\n",
       "      <td>63110.7</td>\n",
       "      <td>62890.0</td>\n",
       "      <td>63005.0</td>\n",
       "      <td>1.887178</td>\n",
       "    </tr>\n",
       "    <tr>\n",
       "      <th>2024-04-27 07:00:00</th>\n",
       "      <td>63006.9</td>\n",
       "      <td>63139.2</td>\n",
       "      <td>62950.6</td>\n",
       "      <td>62965.5</td>\n",
       "      <td>6.454611</td>\n",
       "    </tr>\n",
       "    <tr>\n",
       "      <th>...</th>\n",
       "      <td>...</td>\n",
       "      <td>...</td>\n",
       "      <td>...</td>\n",
       "      <td>...</td>\n",
       "      <td>...</td>\n",
       "    </tr>\n",
       "    <tr>\n",
       "      <th>2024-05-26 22:00:00</th>\n",
       "      <td>68494.7</td>\n",
       "      <td>68693.6</td>\n",
       "      <td>68481.9</td>\n",
       "      <td>68595.6</td>\n",
       "      <td>3.915592</td>\n",
       "    </tr>\n",
       "    <tr>\n",
       "      <th>2024-05-26 23:00:00</th>\n",
       "      <td>68559.7</td>\n",
       "      <td>68559.8</td>\n",
       "      <td>68356.7</td>\n",
       "      <td>68531.7</td>\n",
       "      <td>1.545142</td>\n",
       "    </tr>\n",
       "    <tr>\n",
       "      <th>2024-05-27 00:00:00</th>\n",
       "      <td>68503.1</td>\n",
       "      <td>68762.1</td>\n",
       "      <td>68476.7</td>\n",
       "      <td>68756.5</td>\n",
       "      <td>1.062076</td>\n",
       "    </tr>\n",
       "    <tr>\n",
       "      <th>2024-05-27 01:00:00</th>\n",
       "      <td>68762.1</td>\n",
       "      <td>69241.3</td>\n",
       "      <td>68740.0</td>\n",
       "      <td>69140.0</td>\n",
       "      <td>1.255163</td>\n",
       "    </tr>\n",
       "    <tr>\n",
       "      <th>2024-05-27 02:00:00</th>\n",
       "      <td>69079.1</td>\n",
       "      <td>69269.0</td>\n",
       "      <td>69026.4</td>\n",
       "      <td>69141.2</td>\n",
       "      <td>0.313312</td>\n",
       "    </tr>\n",
       "  </tbody>\n",
       "</table>\n",
       "<p>720 rows × 5 columns</p>\n",
       "</div>"
      ],
      "text/plain": [
       "                        Open     High      Low    Close    Volume\n",
       "timestamp                                                        \n",
       "2024-04-27 03:00:00  62947.0  63136.9  62841.0  63070.6  3.890570\n",
       "2024-04-27 04:00:00  63049.1  63161.5  62957.3  63013.3  0.562865\n",
       "2024-04-27 05:00:00  63029.9  63073.0  62857.5  62981.3  0.806780\n",
       "2024-04-27 06:00:00  62981.2  63110.7  62890.0  63005.0  1.887178\n",
       "2024-04-27 07:00:00  63006.9  63139.2  62950.6  62965.5  6.454611\n",
       "...                      ...      ...      ...      ...       ...\n",
       "2024-05-26 22:00:00  68494.7  68693.6  68481.9  68595.6  3.915592\n",
       "2024-05-26 23:00:00  68559.7  68559.8  68356.7  68531.7  1.545142\n",
       "2024-05-27 00:00:00  68503.1  68762.1  68476.7  68756.5  1.062076\n",
       "2024-05-27 01:00:00  68762.1  69241.3  68740.0  69140.0  1.255163\n",
       "2024-05-27 02:00:00  69079.1  69269.0  69026.4  69141.2  0.313312\n",
       "\n",
       "[720 rows x 5 columns]"
      ]
     },
     "execution_count": 4,
     "metadata": {},
     "output_type": "execute_result"
    }
   ],
   "source": [
    "data"
   ]
  },
  {
   "cell_type": "markdown",
   "metadata": {},
   "source": [
    "# BBands"
   ]
  },
  {
   "cell_type": "code",
   "execution_count": 5,
   "metadata": {},
   "outputs": [],
   "source": [
    "\n",
    "class BBANDS_strategy_v1(Strategy):\n",
    "    ############################ Parameters ####################################\n",
    "    BB_SMA = 20                         # Bollinger bands SMA\n",
    "    BB_STD = 2                        # Bollinger bands standard deviation\n",
    "    BB_MAX_BANDWIDTH = 5                # Bollinger bands maximum volatility allowed\n",
    "    \n",
    "    min_volatility = 0.3\n",
    "    max_buy_perc = 0.2\n",
    "    min_sell_perc = 0.25\n",
    "\n",
    "    ############################ Utilities ####################################\n",
    "    # For logging\n",
    "    def log(self, txt, dt=None):\n",
    "        dt = dt or self.data.index[-1]\n",
    "        # print(f'{dt.strftime(\"%Y-%m-%d %H:%M:%S\")}: {txt}')\n",
    "    \n",
    "    ############################ Strategy: Calculate the indicators ####################################\n",
    "\n",
    "    def init(self):\n",
    "        \n",
    "        # print(f\"BB_SMA: {self.BB_SMA}, BB_STD: {self.BB_STD}, BB_MAX_BANDWIDTH: {self.BB_MAX_BANDWIDTH}\")\n",
    "        # print(f\"min_volatility: {self.min_volatility}, max_buy_perc: {self.max_buy_perc}, min_sell_perc: {self.min_sell_perc}\")\n",
    "        \n",
    "        self.upper = self.I(lambda df, length, std: df.ta.bbands(close = df['Close'], length=length, std=std).iloc[:, 2],\n",
    "                            self.data.df, self.BB_SMA, self.BB_STD, name='upper')\n",
    "        \n",
    "        self.lower = self.I(lambda df, length, std: df.ta.bbands(close = df['Close'], length=length, std=std).iloc[:, 0],\n",
    "                            self.data.df, self.BB_SMA, self.BB_STD, name='lower')\n",
    "        \n",
    "        self.volatility = self.I(lambda df, length, std: df.ta.bbands(close = df['Close'], length=length, std=std).iloc[:, 1],\n",
    "                                 self.data.df, self.BB_SMA, self.BB_STD, name='volatility', plot=True, overlay=False)\n",
    "\n",
    "        self.high_limit = self.I(lambda upper, lower: upper + (upper - lower) / 2, self.upper, self.lower, name='high_limit')\n",
    "        self.low_limit = self.I(lambda upper, lower: lower - (upper - lower) / 2, self.upper, self.lower, name='low_limit')\n",
    "        self.close_percentage = self.I(lambda close, low_limit, high_limit: np.clip((close - low_limit) / (high_limit - low_limit), 0, 1), self.data.df['Close'], self.low_limit, self.high_limit, name='close_percentage')\n",
    "        self.volatility_scaled = self.I(lambda volatility: np.clip(volatility / (100 / self.BB_MAX_BANDWIDTH), 0, 1), self.volatility, name='volatility_scaled')\n",
    "        \n",
    "        self.buy_signal = self.I(lambda volatility_scaled, close_percentage: (volatility_scaled > self.min_volatility) & (close_percentage < self.max_buy_perc), self.volatility_scaled, self.close_percentage, name='buy_signal')\n",
    "        self.sell_signal = self.I(lambda close_percentage: (close_percentage > self.min_sell_perc), self.close_percentage, name='sell_signal')\n",
    "    \n",
    "    \n",
    "\n",
    "    def next(self):\n",
    "        \n",
    "        self.log(f\"Close: {self.data.Close[-1]}, position: {self.position.size}, cash: {self._broker.margin_available}\")\n",
    "        \n",
    "        if self.position.size == 0:\n",
    "            if self.buy_signal[-1]:\n",
    "                self.log(\"BUY\")\n",
    "                self.buy()\n",
    "                \n",
    "        elif self.position.size > 0:\n",
    "            if self.sell_signal[-1]:\n",
    "                self.log(\"SELL\")\n",
    "                self.trades[0].close()"
   ]
  },
  {
   "cell_type": "code",
   "execution_count": 6,
   "metadata": {},
   "outputs": [
    {
     "data": {
      "text/html": [
       "<div style=\"display: table;\"><div style=\"display: table-row;\"><div style=\"display: table-cell;\"><b title=\"bokeh.models.layouts.Row\">Row</b>(</div><div style=\"display: table-cell;\">id&nbsp;=&nbsp;'1805', <span id=\"2728\" style=\"cursor: pointer;\">&hellip;)</span></div></div><div class=\"2727\" style=\"display: none;\"><div style=\"display: table-cell;\"></div><div style=\"display: table-cell;\">align&nbsp;=&nbsp;'start',</div></div><div class=\"2727\" style=\"display: none;\"><div style=\"display: table-cell;\"></div><div style=\"display: table-cell;\">aspect_ratio&nbsp;=&nbsp;None,</div></div><div class=\"2727\" style=\"display: none;\"><div style=\"display: table-cell;\"></div><div style=\"display: table-cell;\">background&nbsp;=&nbsp;None,</div></div><div class=\"2727\" style=\"display: none;\"><div style=\"display: table-cell;\"></div><div style=\"display: table-cell;\">children&nbsp;=&nbsp;[GridBox(id='1802', ...), ToolbarBox(id='1804', ...)],</div></div><div class=\"2727\" style=\"display: none;\"><div style=\"display: table-cell;\"></div><div style=\"display: table-cell;\">cols&nbsp;=&nbsp;'auto',</div></div><div class=\"2727\" style=\"display: none;\"><div style=\"display: table-cell;\"></div><div style=\"display: table-cell;\">css_classes&nbsp;=&nbsp;[],</div></div><div class=\"2727\" style=\"display: none;\"><div style=\"display: table-cell;\"></div><div style=\"display: table-cell;\">disabled&nbsp;=&nbsp;False,</div></div><div class=\"2727\" style=\"display: none;\"><div style=\"display: table-cell;\"></div><div style=\"display: table-cell;\">height&nbsp;=&nbsp;None,</div></div><div class=\"2727\" style=\"display: none;\"><div style=\"display: table-cell;\"></div><div style=\"display: table-cell;\">height_policy&nbsp;=&nbsp;'auto',</div></div><div class=\"2727\" style=\"display: none;\"><div style=\"display: table-cell;\"></div><div style=\"display: table-cell;\">js_event_callbacks&nbsp;=&nbsp;{},</div></div><div class=\"2727\" style=\"display: none;\"><div style=\"display: table-cell;\"></div><div style=\"display: table-cell;\">js_property_callbacks&nbsp;=&nbsp;{},</div></div><div class=\"2727\" style=\"display: none;\"><div style=\"display: table-cell;\"></div><div style=\"display: table-cell;\">margin&nbsp;=&nbsp;(0, 0, 0, 0),</div></div><div class=\"2727\" style=\"display: none;\"><div style=\"display: table-cell;\"></div><div style=\"display: table-cell;\">max_height&nbsp;=&nbsp;None,</div></div><div class=\"2727\" style=\"display: none;\"><div style=\"display: table-cell;\"></div><div style=\"display: table-cell;\">max_width&nbsp;=&nbsp;None,</div></div><div class=\"2727\" style=\"display: none;\"><div style=\"display: table-cell;\"></div><div style=\"display: table-cell;\">min_height&nbsp;=&nbsp;None,</div></div><div class=\"2727\" style=\"display: none;\"><div style=\"display: table-cell;\"></div><div style=\"display: table-cell;\">min_width&nbsp;=&nbsp;None,</div></div><div class=\"2727\" style=\"display: none;\"><div style=\"display: table-cell;\"></div><div style=\"display: table-cell;\">name&nbsp;=&nbsp;None,</div></div><div class=\"2727\" style=\"display: none;\"><div style=\"display: table-cell;\"></div><div style=\"display: table-cell;\">sizing_mode&nbsp;=&nbsp;'stretch_width',</div></div><div class=\"2727\" style=\"display: none;\"><div style=\"display: table-cell;\"></div><div style=\"display: table-cell;\">spacing&nbsp;=&nbsp;0,</div></div><div class=\"2727\" style=\"display: none;\"><div style=\"display: table-cell;\"></div><div style=\"display: table-cell;\">subscribed_events&nbsp;=&nbsp;[],</div></div><div class=\"2727\" style=\"display: none;\"><div style=\"display: table-cell;\"></div><div style=\"display: table-cell;\">syncable&nbsp;=&nbsp;True,</div></div><div class=\"2727\" style=\"display: none;\"><div style=\"display: table-cell;\"></div><div style=\"display: table-cell;\">tags&nbsp;=&nbsp;[],</div></div><div class=\"2727\" style=\"display: none;\"><div style=\"display: table-cell;\"></div><div style=\"display: table-cell;\">visible&nbsp;=&nbsp;True,</div></div><div class=\"2727\" style=\"display: none;\"><div style=\"display: table-cell;\"></div><div style=\"display: table-cell;\">width&nbsp;=&nbsp;None,</div></div><div class=\"2727\" style=\"display: none;\"><div style=\"display: table-cell;\"></div><div style=\"display: table-cell;\">width_policy&nbsp;=&nbsp;'auto')</div></div></div>\n",
       "<script>\n",
       "(function() {\n",
       "  var expanded = false;\n",
       "  var ellipsis = document.getElementById(\"2728\");\n",
       "  ellipsis.addEventListener(\"click\", function() {\n",
       "    var rows = document.getElementsByClassName(\"2727\");\n",
       "    for (var i = 0; i < rows.length; i++) {\n",
       "      var el = rows[i];\n",
       "      el.style.display = expanded ? \"none\" : \"table-row\";\n",
       "    }\n",
       "    ellipsis.innerHTML = expanded ? \"&hellip;)\" : \"&lsaquo;&lsaquo;&lsaquo;\";\n",
       "    expanded = !expanded;\n",
       "  });\n",
       "})();\n",
       "</script>\n"
      ],
      "text/plain": [
       "Row(id='1805', ...)"
      ]
     },
     "execution_count": 6,
     "metadata": {},
     "output_type": "execute_result"
    }
   ],
   "source": [
    "# BBANDS_strategy.BB_SMA = 40\n",
    "# BBANDS_strategy.BB_STD = 2\n",
    "# BBANDS_strategy.BB_MAX_BANDWIDTH = 9\n",
    "# BBANDS_strategy.min_volatility = 0.6\n",
    "# BBANDS_strategy.max_buy_perc = 0.3\n",
    "# BBANDS_strategy.min_sell_perc = 0.2\n",
    "\n",
    "bt = Backtest(\n",
    "    data, \n",
    "    BBANDS_strategy_v1,\n",
    "    commission=0.00075, \n",
    "    cash=100000, \n",
    "    )\n",
    "\n",
    "strat = bt.run()\n",
    "bt.plot()"
   ]
  },
  {
   "cell_type": "code",
   "execution_count": 7,
   "metadata": {},
   "outputs": [
    {
     "data": {
      "text/plain": [
       "Start                     2024-04-27 03:00:00\n",
       "End                       2024-05-27 02:00:00\n",
       "Duration                     29 days 23:00:00\n",
       "Exposure Time [%]                    5.555556\n",
       "Equity Final [$]                 98985.110575\n",
       "Equity Peak [$]                 100285.282525\n",
       "Return [%]                          -1.014889\n",
       "Buy & Hold Return [%]                9.625087\n",
       "Return (Ann.) [%]                  -11.317317\n",
       "Volatility (Ann.) [%]                2.490301\n",
       "Sharpe Ratio                              0.0\n",
       "Sortino Ratio                             0.0\n",
       "Calmar Ratio                              0.0\n",
       "Max. Drawdown [%]                   -1.310064\n",
       "Avg. Drawdown [%]                   -0.655639\n",
       "Max. Drawdown Duration       18 days 06:00:00\n",
       "Avg. Drawdown Duration        9 days 02:00:00\n",
       "# Trades                                   11\n",
       "Win Rate [%]                        45.454545\n",
       "Best Trade [%]                       0.360375\n",
       "Worst Trade [%]                     -0.678263\n",
       "Avg. Trade [%]                      -0.144179\n",
       "Max. Trade Duration           0 days 04:00:00\n",
       "Avg. Trade Duration           0 days 03:00:00\n",
       "Profit Factor                        0.411076\n",
       "Expectancy [%]                      -0.143471\n",
       "SQN                                 -1.228908\n",
       "_strategy                  BBANDS_strategy_v1\n",
       "_equity_curve                             ...\n",
       "_trades                       Size  EntryB...\n",
       "dtype: object"
      ]
     },
     "execution_count": 7,
     "metadata": {},
     "output_type": "execute_result"
    }
   ],
   "source": [
    "strat"
   ]
  },
  {
   "cell_type": "markdown",
   "metadata": {},
   "source": [
    "## Optimization"
   ]
  },
  {
   "cell_type": "code",
   "execution_count": 8,
   "metadata": {},
   "outputs": [],
   "source": [
    "import multiprocessing as mp\n",
    "mp.set_start_method('fork')"
   ]
  },
  {
   "cell_type": "code",
   "execution_count": 9,
   "metadata": {},
   "outputs": [
    {
     "name": "stderr",
     "output_type": "stream",
     "text": [
      "/Users/cholian/anaconda3/envs/tokenmetrics/lib/python3.10/site-packages/backtesting/backtesting.py:1488: UserWarning: Searching for best of 501 configurations.\n",
      "  output = _optimize_grid()\n"
     ]
    },
    {
     "data": {
      "application/vnd.jupyter.widget-view+json": {
       "model_id": "869cb00379834072956f8297e6ffa23e",
       "version_major": 2,
       "version_minor": 0
      },
      "text/plain": [
       "Backtest.optimize:   0%|          | 0/11 [00:00<?, ?it/s]"
      ]
     },
     "metadata": {},
     "output_type": "display_data"
    },
    {
     "name": "stderr",
     "output_type": "stream",
     "text": [
      "/Users/cholian/anaconda3/envs/tokenmetrics/lib/python3.10/site-packages/backtesting/_stats.py:122: RuntimeWarning: divide by zero encountered in scalar divide\n",
      "  s.loc['Sortino Ratio'] = np.clip((annualized_return - risk_free_rate) / (np.sqrt(np.mean(day_returns.clip(-np.inf, 0)**2)) * np.sqrt(annual_trading_days)), 0, np.inf)  # noqa: E501\n",
      "/Users/cholian/anaconda3/envs/tokenmetrics/lib/python3.10/site-packages/backtesting/_stats.py:122: RuntimeWarning: divide by zero encountered in scalar divide\n",
      "  s.loc['Sortino Ratio'] = np.clip((annualized_return - risk_free_rate) / (np.sqrt(np.mean(day_returns.clip(-np.inf, 0)**2)) * np.sqrt(annual_trading_days)), 0, np.inf)  # noqa: E501\n",
      "/Users/cholian/anaconda3/envs/tokenmetrics/lib/python3.10/site-packages/backtesting/_stats.py:122: RuntimeWarning: divide by zero encountered in scalar divide\n",
      "  s.loc['Sortino Ratio'] = np.clip((annualized_return - risk_free_rate) / (np.sqrt(np.mean(day_returns.clip(-np.inf, 0)**2)) * np.sqrt(annual_trading_days)), 0, np.inf)  # noqa: E501\n"
     ]
    }
   ],
   "source": [
    "bt = Backtest(\n",
    "    data, \n",
    "    BBANDS_strategy_v1,\n",
    "    commission=0.00075, \n",
    "    cash=100000, \n",
    "    )\n",
    "\n",
    "stats = bt.optimize(\n",
    "                    BB_SMA=range(10, 70, 5),\n",
    "                    BB_STD=range(1, 10, 2),\n",
    "                    BB_MAX_BANDWIDTH=range(1, 10, 1),\n",
    "                    min_volatility=list(np.arange(0, 0.5, 0.05)),\n",
    "                    max_buy_perc=list(np.arange(0.1, 1, 0.05)),\n",
    "                    min_sell_perc=list(np.arange(0, 0.5, 0.05)),\n",
    "                    maximize='Return [%]',\n",
    "                    max_tries=500,\n",
    "                    random_state=1) \n",
    "\n",
    "# pd.DataFrame(stats)\n",
    "# stats._strategy"
   ]
  },
  {
   "cell_type": "code",
   "execution_count": 10,
   "metadata": {},
   "outputs": [
    {
     "data": {
      "text/plain": [
       "<Strategy BBANDS_strategy_v1(BB_SMA=55,BB_STD=3,BB_MAX_BANDWIDTH=2,min_volatility=0.1,max_buy_perc=0.5500000000000002,min_sell_perc=0.45)>"
      ]
     },
     "execution_count": 10,
     "metadata": {},
     "output_type": "execute_result"
    }
   ],
   "source": [
    "stats._strategy"
   ]
  },
  {
   "cell_type": "code",
   "execution_count": 11,
   "metadata": {},
   "outputs": [
    {
     "data": {
      "text/html": [
       "<div style=\"display: table;\"><div style=\"display: table-row;\"><div style=\"display: table-cell;\"><b title=\"bokeh.models.layouts.Row\">Row</b>(</div><div style=\"display: table-cell;\">id&nbsp;=&nbsp;'3532', <span id=\"4455\" style=\"cursor: pointer;\">&hellip;)</span></div></div><div class=\"4454\" style=\"display: none;\"><div style=\"display: table-cell;\"></div><div style=\"display: table-cell;\">align&nbsp;=&nbsp;'start',</div></div><div class=\"4454\" style=\"display: none;\"><div style=\"display: table-cell;\"></div><div style=\"display: table-cell;\">aspect_ratio&nbsp;=&nbsp;None,</div></div><div class=\"4454\" style=\"display: none;\"><div style=\"display: table-cell;\"></div><div style=\"display: table-cell;\">background&nbsp;=&nbsp;None,</div></div><div class=\"4454\" style=\"display: none;\"><div style=\"display: table-cell;\"></div><div style=\"display: table-cell;\">children&nbsp;=&nbsp;[GridBox(id='3529', ...), ToolbarBox(id='3531', ...)],</div></div><div class=\"4454\" style=\"display: none;\"><div style=\"display: table-cell;\"></div><div style=\"display: table-cell;\">cols&nbsp;=&nbsp;'auto',</div></div><div class=\"4454\" style=\"display: none;\"><div style=\"display: table-cell;\"></div><div style=\"display: table-cell;\">css_classes&nbsp;=&nbsp;[],</div></div><div class=\"4454\" style=\"display: none;\"><div style=\"display: table-cell;\"></div><div style=\"display: table-cell;\">disabled&nbsp;=&nbsp;False,</div></div><div class=\"4454\" style=\"display: none;\"><div style=\"display: table-cell;\"></div><div style=\"display: table-cell;\">height&nbsp;=&nbsp;None,</div></div><div class=\"4454\" style=\"display: none;\"><div style=\"display: table-cell;\"></div><div style=\"display: table-cell;\">height_policy&nbsp;=&nbsp;'auto',</div></div><div class=\"4454\" style=\"display: none;\"><div style=\"display: table-cell;\"></div><div style=\"display: table-cell;\">js_event_callbacks&nbsp;=&nbsp;{},</div></div><div class=\"4454\" style=\"display: none;\"><div style=\"display: table-cell;\"></div><div style=\"display: table-cell;\">js_property_callbacks&nbsp;=&nbsp;{},</div></div><div class=\"4454\" style=\"display: none;\"><div style=\"display: table-cell;\"></div><div style=\"display: table-cell;\">margin&nbsp;=&nbsp;(0, 0, 0, 0),</div></div><div class=\"4454\" style=\"display: none;\"><div style=\"display: table-cell;\"></div><div style=\"display: table-cell;\">max_height&nbsp;=&nbsp;None,</div></div><div class=\"4454\" style=\"display: none;\"><div style=\"display: table-cell;\"></div><div style=\"display: table-cell;\">max_width&nbsp;=&nbsp;None,</div></div><div class=\"4454\" style=\"display: none;\"><div style=\"display: table-cell;\"></div><div style=\"display: table-cell;\">min_height&nbsp;=&nbsp;None,</div></div><div class=\"4454\" style=\"display: none;\"><div style=\"display: table-cell;\"></div><div style=\"display: table-cell;\">min_width&nbsp;=&nbsp;None,</div></div><div class=\"4454\" style=\"display: none;\"><div style=\"display: table-cell;\"></div><div style=\"display: table-cell;\">name&nbsp;=&nbsp;None,</div></div><div class=\"4454\" style=\"display: none;\"><div style=\"display: table-cell;\"></div><div style=\"display: table-cell;\">sizing_mode&nbsp;=&nbsp;'stretch_width',</div></div><div class=\"4454\" style=\"display: none;\"><div style=\"display: table-cell;\"></div><div style=\"display: table-cell;\">spacing&nbsp;=&nbsp;0,</div></div><div class=\"4454\" style=\"display: none;\"><div style=\"display: table-cell;\"></div><div style=\"display: table-cell;\">subscribed_events&nbsp;=&nbsp;[],</div></div><div class=\"4454\" style=\"display: none;\"><div style=\"display: table-cell;\"></div><div style=\"display: table-cell;\">syncable&nbsp;=&nbsp;True,</div></div><div class=\"4454\" style=\"display: none;\"><div style=\"display: table-cell;\"></div><div style=\"display: table-cell;\">tags&nbsp;=&nbsp;[],</div></div><div class=\"4454\" style=\"display: none;\"><div style=\"display: table-cell;\"></div><div style=\"display: table-cell;\">visible&nbsp;=&nbsp;True,</div></div><div class=\"4454\" style=\"display: none;\"><div style=\"display: table-cell;\"></div><div style=\"display: table-cell;\">width&nbsp;=&nbsp;None,</div></div><div class=\"4454\" style=\"display: none;\"><div style=\"display: table-cell;\"></div><div style=\"display: table-cell;\">width_policy&nbsp;=&nbsp;'auto')</div></div></div>\n",
       "<script>\n",
       "(function() {\n",
       "  var expanded = false;\n",
       "  var ellipsis = document.getElementById(\"4455\");\n",
       "  ellipsis.addEventListener(\"click\", function() {\n",
       "    var rows = document.getElementsByClassName(\"4454\");\n",
       "    for (var i = 0; i < rows.length; i++) {\n",
       "      var el = rows[i];\n",
       "      el.style.display = expanded ? \"none\" : \"table-row\";\n",
       "    }\n",
       "    ellipsis.innerHTML = expanded ? \"&hellip;)\" : \"&lsaquo;&lsaquo;&lsaquo;\";\n",
       "    expanded = !expanded;\n",
       "  });\n",
       "})();\n",
       "</script>\n"
      ],
      "text/plain": [
       "Row(id='3532', ...)"
      ]
     },
     "execution_count": 11,
     "metadata": {},
     "output_type": "execute_result"
    }
   ],
   "source": [
    "bt = Backtest(\n",
    "    data, \n",
    "    BBANDS_strategy_v1,\n",
    "    commission=0.00075, \n",
    "    cash=100000, \n",
    "    )\n",
    "\n",
    "strat = bt.run( BB_SMA=55, BB_STD=3, BB_MAX_BANDWIDTH=2, min_volatility=0.1, max_buy_perc=0.55, min_sell_perc=0.45)\n",
    "bt.plot()"
   ]
  },
  {
   "cell_type": "code",
   "execution_count": 12,
   "metadata": {},
   "outputs": [
    {
     "data": {
      "text/plain": [
       "Start                     2024-04-27 03:00:00\n",
       "End                       2024-05-27 02:00:00\n",
       "Duration                     29 days 23:00:00\n",
       "Exposure Time [%]                       53.75\n",
       "Equity Final [$]                102991.638575\n",
       "Equity Peak [$]                  104363.79415\n",
       "Return [%]                           2.991639\n",
       "Buy & Hold Return [%]                9.625087\n",
       "Return (Ann.) [%]                   41.492313\n",
       "Volatility (Ann.) [%]               25.866259\n",
       "Sharpe Ratio                          1.60411\n",
       "Sortino Ratio                         3.44179\n",
       "Calmar Ratio                          7.62776\n",
       "Max. Drawdown [%]                   -5.439646\n",
       "Avg. Drawdown [%]                   -0.750865\n",
       "Max. Drawdown Duration       15 days 08:00:00\n",
       "Avg. Drawdown Duration        1 days 15:00:00\n",
       "# Trades                                   94\n",
       "Win Rate [%]                        57.446809\n",
       "Best Trade [%]                       2.009314\n",
       "Worst Trade [%]                     -5.466062\n",
       "Avg. Trade [%]                       0.046787\n",
       "Max. Trade Duration           2 days 03:00:00\n",
       "Avg. Trade Duration           0 days 04:00:00\n",
       "Profit Factor                        1.289626\n",
       "Expectancy [%]                       0.049703\n",
       "SQN                                  0.642944\n",
       "_strategy                 BBANDS_strategy_...\n",
       "_equity_curve                             ...\n",
       "_trades                       Size  EntryB...\n",
       "dtype: object"
      ]
     },
     "execution_count": 12,
     "metadata": {},
     "output_type": "execute_result"
    }
   ],
   "source": [
    "strat"
   ]
  }
 ],
 "metadata": {
  "kernelspec": {
   "display_name": "tokenmetrics",
   "language": "python",
   "name": "python3"
  },
  "language_info": {
   "codemirror_mode": {
    "name": "ipython",
    "version": 3
   },
   "file_extension": ".py",
   "mimetype": "text/x-python",
   "name": "python",
   "nbconvert_exporter": "python",
   "pygments_lexer": "ipython3",
   "version": "3.10.13"
  }
 },
 "nbformat": 4,
 "nbformat_minor": 2
}
