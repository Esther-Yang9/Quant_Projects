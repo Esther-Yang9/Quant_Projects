{
 "cells": [
  {
   "cell_type": "code",
   "execution_count": null,
   "metadata": {},
   "outputs": [],
   "source": [
    "Market scenario:\n",
    "    \n",
    "    * Trending market\n",
    "        - Trending strategy\n",
    "        - EMAs\n",
    "    \n",
    "    * Range-bound market\n",
    "        - Mean reversion strategy\n",
    "        - Bollinger Bands\n",
    "        "
   ]
  }
 ],
 "metadata": {
  "language_info": {
   "name": "python"
  }
 },
 "nbformat": 4,
 "nbformat_minor": 2
}
