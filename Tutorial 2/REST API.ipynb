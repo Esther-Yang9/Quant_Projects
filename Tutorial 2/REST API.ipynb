{
 "cells": [
  {
   "cell_type": "markdown",
   "metadata": {},
   "source": [
    "# Tutorial 2: Basic usage of the API"
   ]
  },
  {
   "cell_type": "markdown",
   "metadata": {},
   "source": [
    "Author: Chao Li (Cholian)\n",
    "\n",
    "Email: cholian.chaoli@gmail.com"
   ]
  },
  {
   "cell_type": "code",
   "execution_count": 75,
   "metadata": {},
   "outputs": [],
   "source": [
    "import json\n",
    "import pandas as pd"
   ]
  },
  {
   "cell_type": "code",
   "execution_count": 76,
   "metadata": {},
   "outputs": [],
   "source": [
    "# # Open the JSON file in read mode\n",
    "# with open('Binance Sandbox APIs.json', 'r') as file:\n",
    "#     # Load the JSON data\n",
    "#     sandboxAPIs = json.load(file)"
   ]
  },
  {
   "cell_type": "markdown",
   "metadata": {},
   "source": [
    "# REST API"
   ]
  },
  {
   "cell_type": "code",
   "execution_count": 77,
   "metadata": {},
   "outputs": [],
   "source": [
    "import ccxt"
   ]
  },
  {
   "cell_type": "code",
   "execution_count": 78,
   "metadata": {},
   "outputs": [],
   "source": [
    "exchange_name = 'binance'\n",
    "# exchange_name = 'binance'  # Sandbox API\n",
    "# exchange_name = 'kucoin'   # Sandbox API\n",
    "# exchange_name = 'kraken'\n",
    "# exchange_name = 'gate'\n",
    "# exchange_name = 'binanceus'\n",
    "# exchange_name = 'gemini'\n",
    "# exchange_name = 'coinbasepro'\n",
    "# exchange_name = 'bittrex'"
   ]
  },
  {
   "cell_type": "code",
   "execution_count": 79,
   "metadata": {},
   "outputs": [],
   "source": [
    "exchange = ccxt.binance({})\n",
    "exchange.set_sandbox_mode(True) "
   ]
  },
  {
   "cell_type": "code",
   "execution_count": 80,
   "metadata": {},
   "outputs": [],
   "source": [
    "exchange.load_markets()\n",
    "exchange.verbose = False"
   ]
  },
  {
   "cell_type": "markdown",
   "metadata": {},
   "source": [
    "## Get market data"
   ]
  },
  {
   "cell_type": "markdown",
   "metadata": {},
   "source": [
    "`fetchOHLCV (symbol, timeframe = '1m', since = undefined, limit = undefined, params = {})`"
   ]
  },
  {
   "cell_type": "code",
   "execution_count": 81,
   "metadata": {},
   "outputs": [
    {
     "data": {
      "text/html": [
       "<div>\n",
       "<style scoped>\n",
       "    .dataframe tbody tr th:only-of-type {\n",
       "        vertical-align: middle;\n",
       "    }\n",
       "\n",
       "    .dataframe tbody tr th {\n",
       "        vertical-align: top;\n",
       "    }\n",
       "\n",
       "    .dataframe thead th {\n",
       "        text-align: right;\n",
       "    }\n",
       "</style>\n",
       "<table border=\"1\" class=\"dataframe\">\n",
       "  <thead>\n",
       "    <tr style=\"text-align: right;\">\n",
       "      <th></th>\n",
       "      <th>timestamp</th>\n",
       "      <th>open</th>\n",
       "      <th>high</th>\n",
       "      <th>low</th>\n",
       "      <th>close</th>\n",
       "      <th>volume</th>\n",
       "    </tr>\n",
       "  </thead>\n",
       "  <tbody>\n",
       "    <tr>\n",
       "      <th>0</th>\n",
       "      <td>2024-04-08 19:16:00</td>\n",
       "      <td>71870.78</td>\n",
       "      <td>71938.20</td>\n",
       "      <td>71870.78</td>\n",
       "      <td>71918.00</td>\n",
       "      <td>0.20914</td>\n",
       "    </tr>\n",
       "    <tr>\n",
       "      <th>1</th>\n",
       "      <td>2024-04-08 19:17:00</td>\n",
       "      <td>71918.00</td>\n",
       "      <td>71937.03</td>\n",
       "      <td>71911.18</td>\n",
       "      <td>71925.62</td>\n",
       "      <td>0.23820</td>\n",
       "    </tr>\n",
       "    <tr>\n",
       "      <th>2</th>\n",
       "      <td>2024-04-08 19:18:00</td>\n",
       "      <td>71933.24</td>\n",
       "      <td>71937.59</td>\n",
       "      <td>71900.01</td>\n",
       "      <td>71937.59</td>\n",
       "      <td>0.18632</td>\n",
       "    </tr>\n",
       "    <tr>\n",
       "      <th>3</th>\n",
       "      <td>2024-04-08 19:19:00</td>\n",
       "      <td>71938.47</td>\n",
       "      <td>71940.00</td>\n",
       "      <td>71908.08</td>\n",
       "      <td>71908.08</td>\n",
       "      <td>0.22275</td>\n",
       "    </tr>\n",
       "    <tr>\n",
       "      <th>4</th>\n",
       "      <td>2024-04-08 19:20:00</td>\n",
       "      <td>71913.12</td>\n",
       "      <td>71950.00</td>\n",
       "      <td>71876.02</td>\n",
       "      <td>71909.90</td>\n",
       "      <td>0.22674</td>\n",
       "    </tr>\n",
       "    <tr>\n",
       "      <th>...</th>\n",
       "      <td>...</td>\n",
       "      <td>...</td>\n",
       "      <td>...</td>\n",
       "      <td>...</td>\n",
       "      <td>...</td>\n",
       "      <td>...</td>\n",
       "    </tr>\n",
       "    <tr>\n",
       "      <th>495</th>\n",
       "      <td>2024-04-09 03:31:00</td>\n",
       "      <td>71534.56</td>\n",
       "      <td>71534.56</td>\n",
       "      <td>71467.52</td>\n",
       "      <td>71467.52</td>\n",
       "      <td>0.07997</td>\n",
       "    </tr>\n",
       "    <tr>\n",
       "      <th>496</th>\n",
       "      <td>2024-04-09 03:32:00</td>\n",
       "      <td>71468.60</td>\n",
       "      <td>71468.60</td>\n",
       "      <td>71430.03</td>\n",
       "      <td>71443.87</td>\n",
       "      <td>0.20357</td>\n",
       "    </tr>\n",
       "    <tr>\n",
       "      <th>497</th>\n",
       "      <td>2024-04-09 03:33:00</td>\n",
       "      <td>71443.84</td>\n",
       "      <td>71444.00</td>\n",
       "      <td>71401.40</td>\n",
       "      <td>71403.55</td>\n",
       "      <td>0.11575</td>\n",
       "    </tr>\n",
       "    <tr>\n",
       "      <th>498</th>\n",
       "      <td>2024-04-09 03:34:00</td>\n",
       "      <td>71404.00</td>\n",
       "      <td>71422.23</td>\n",
       "      <td>71404.00</td>\n",
       "      <td>71411.58</td>\n",
       "      <td>0.16414</td>\n",
       "    </tr>\n",
       "    <tr>\n",
       "      <th>499</th>\n",
       "      <td>2024-04-09 03:35:00</td>\n",
       "      <td>71411.58</td>\n",
       "      <td>71418.80</td>\n",
       "      <td>71411.28</td>\n",
       "      <td>71415.37</td>\n",
       "      <td>0.05299</td>\n",
       "    </tr>\n",
       "  </tbody>\n",
       "</table>\n",
       "<p>500 rows × 6 columns</p>\n",
       "</div>"
      ],
      "text/plain": [
       "              timestamp      open      high       low     close   volume\n",
       "0   2024-04-08 19:16:00  71870.78  71938.20  71870.78  71918.00  0.20914\n",
       "1   2024-04-08 19:17:00  71918.00  71937.03  71911.18  71925.62  0.23820\n",
       "2   2024-04-08 19:18:00  71933.24  71937.59  71900.01  71937.59  0.18632\n",
       "3   2024-04-08 19:19:00  71938.47  71940.00  71908.08  71908.08  0.22275\n",
       "4   2024-04-08 19:20:00  71913.12  71950.00  71876.02  71909.90  0.22674\n",
       "..                  ...       ...       ...       ...       ...      ...\n",
       "495 2024-04-09 03:31:00  71534.56  71534.56  71467.52  71467.52  0.07997\n",
       "496 2024-04-09 03:32:00  71468.60  71468.60  71430.03  71443.87  0.20357\n",
       "497 2024-04-09 03:33:00  71443.84  71444.00  71401.40  71403.55  0.11575\n",
       "498 2024-04-09 03:34:00  71404.00  71422.23  71404.00  71411.58  0.16414\n",
       "499 2024-04-09 03:35:00  71411.58  71418.80  71411.28  71415.37  0.05299\n",
       "\n",
       "[500 rows x 6 columns]"
      ]
     },
     "execution_count": 81,
     "metadata": {},
     "output_type": "execute_result"
    }
   ],
   "source": [
    "data = exchange.fetchOHLCV('BTC/USDT', '1m')\n",
    "data = pd.DataFrame(data, columns=['timestamp', 'open', 'high', 'low', 'close', 'volume'])\n",
    "data['timestamp'] = pd.to_datetime(data['timestamp'], unit='ms')\n",
    "data"
   ]
  },
  {
   "cell_type": "markdown",
   "metadata": {},
   "source": [
    "`fetchOrderBook (symbol, limit = undefined, params = {})`"
   ]
  },
  {
   "cell_type": "code",
   "execution_count": 82,
   "metadata": {},
   "outputs": [],
   "source": [
    "data = exchange.fetchOrderBook('BTC/USDT', limit=5)"
   ]
  },
  {
   "cell_type": "code",
   "execution_count": 83,
   "metadata": {},
   "outputs": [
    {
     "data": {
      "text/plain": [
       "{'symbol': 'BTC/USDT',\n",
       " 'bids': [[71422.08, 0.00694],\n",
       "  [71420.21, 0.00421],\n",
       "  [71419.69, 0.00687],\n",
       "  [71419.34, 0.00701],\n",
       "  [71418.37, 0.00617]],\n",
       " 'asks': [[71422.09, 0.00365],\n",
       "  [71422.24, 0.00491],\n",
       "  [71422.26, 0.00442],\n",
       "  [71422.64, 0.00358],\n",
       "  [71424.4, 0.00498]],\n",
       " 'timestamp': None,\n",
       " 'datetime': None,\n",
       " 'nonce': 26414295}"
      ]
     },
     "execution_count": 83,
     "metadata": {},
     "output_type": "execute_result"
    }
   ],
   "source": [
    "data"
   ]
  },
  {
   "cell_type": "markdown",
   "metadata": {},
   "source": [
    "## Get exchange/coin information"
   ]
  },
  {
   "cell_type": "code",
   "execution_count": 84,
   "metadata": {},
   "outputs": [
    {
     "data": {
      "text/plain": [
       "dict_keys(['ETH/BTC', 'LTC/BTC', 'BNB/BTC', 'BTC/USDT', 'ETH/USDT', 'TRX/BTC', 'XRP/BTC', 'BNB/USDT', 'LTC/USDT', 'LTC/BNB', 'XRP/USDT', 'XRP/BNB', 'TRX/BNB', 'TRX/USDT', 'NEO/BTC', 'QTUM/ETH', 'EOS/ETH', 'SNT/ETH', 'BNT/ETH', 'GAS/BTC', 'BNB/ETH', 'LRC/BTC', 'LRC/ETH', 'QTUM/BTC', 'ZRX/BTC', 'KNC/BTC', 'IOTA/BTC', 'IOTA/ETH', 'LINK/BTC', 'LINK/ETH', 'XVG/ETH', 'MTL/BTC', 'EOS/BTC', 'SNT/BTC', 'ETC/ETH', 'ETC/BTC', 'ZEC/BTC', 'ZEC/ETH', 'BNT/BTC', 'AST/BTC', 'DASH/BTC', 'DASH/ETH', 'OAX/BTC', 'REQ/BTC', 'VIB/BTC', 'TRX/ETH', 'POWR/BTC', 'POWR/ETH', 'XRP/ETH', 'ENJ/BTC', 'ENJ/ETH', 'STORJ/BTC', 'KMD/BTC', 'NULS/BTC', 'AMB/BTC', 'BAT/BTC', 'NEO/USDT', 'LSK/BTC', 'LSK/ETH', 'MANA/BTC', 'MANA/ETH', 'ADX/BTC', 'ADX/ETH', 'ADA/BTC', 'ADA/ETH', 'XLM/BTC', 'XLM/ETH', 'LTC/ETH', 'WAVES/BTC', 'WAVES/ETH', 'ICX/BTC', 'ELF/BTC', 'ELF/ETH', 'RLC/BTC', 'RLC/ETH', 'PIVX/BTC', 'IOST/BTC', 'STEEM/BTC', 'STEEM/ETH', 'BLZ/BTC', 'ZIL/BTC', 'ZIL/ETH', 'ONT/BTC', 'QTUM/USDT', 'WAN/BTC', 'SYS/BTC', 'ADA/USDT', 'ADA/BNB', 'LOOM/BTC', 'BTC/TUSD', 'ETH/TUSD', 'ZEN/BTC', 'ZEN/ETH', 'EOS/USDT', 'THETA/BTC', 'THETA/ETH', 'TUSD/USDT', 'IOTA/USDT', 'XLM/USDT', 'IOTX/BTC', 'IOTX/ETH', 'QKC/BTC', 'DATA/BTC', 'ONT/USDT', 'ETC/USDT', 'ETC/BNB', 'ICX/USDT', 'SC/ETH', 'DENT/ETH', 'ARDR/BTC', 'NULS/USDT', 'HOT/ETH', 'VET/BTC', 'VET/ETH', 'VET/USDT', 'VET/BNB', 'DOCK/BTC', 'RVN/BTC', 'DCR/BTC', 'REN/BTC', 'BNB/TUSD', 'XRP/TUSD', 'BNB/USDC', 'BTC/USDC', 'ETH/USDC', 'XRP/USDC', 'USDC/USDT', 'ADA/TUSD', 'TRX/XRP', 'LINK/USDT', 'LINK/TUSD', 'LINK/USDC', 'WAVES/USDT', 'LTC/TUSD', 'ONG/BTC', 'ONG/USDT', 'HOT/USDT', 'ZIL/USDT', 'ZRX/USDT', 'FET/BNB', 'FET/BTC', 'FET/USDT', 'BAT/USDT', 'ZEC/USDT', 'IOST/USDT', 'CELR/BTC', 'CELR/USDT', 'ADA/USDC', 'DASH/USDT', 'OMG/USDT', 'THETA/USDT', 'ENJ/USDT', 'MATIC/BNB', 'MATIC/BTC', 'MATIC/USDT', 'ATOM/BNB', 'ATOM/BTC', 'ATOM/USDT', 'PHB/BTC', 'TFUEL/BTC', 'TFUEL/USDT', 'ONE/BTC', 'ONE/USDT', 'FTM/BNB', 'FTM/BTC', 'FTM/USDT', 'ALGO/BTC', 'ALGO/USDT', 'DOGE/BTC', 'DOGE/USDT', 'DOGE/USDC', 'DUSK/BTC', 'DUSK/USDT', 'ANKR/BTC', 'ANKR/USDT', 'WIN/BNB', 'WIN/USDT', 'COS/BTC', 'COS/USDT', 'MTL/USDT', 'DENT/USDT', 'KEY/USDT', 'DOCK/USDT', 'WAN/USDT', 'FUN/USDT', 'CVC/USDT', 'WIN/TRX', 'CHZ/BNB', 'CHZ/BTC', 'CHZ/USDT', 'BAND/BTC', 'BAND/USDT', 'XTZ/BTC', 'XTZ/USDT', 'REN/USDT', 'RVN/USDT', 'HBAR/BNB', 'HBAR/BTC', 'HBAR/USDT', 'NKN/BTC', 'NKN/USDT', 'STX/BNB', 'STX/BTC', 'STX/USDT', 'KAVA/BTC', 'KAVA/USDT', 'ARPA/BNB', 'ARPA/BTC', 'ARPA/USDT', 'IOTX/USDT', 'RLC/USDT', 'CTXC/BTC', 'CTXC/USDT', 'BCH/BNB', 'BCH/BTC', 'BCH/USDT', 'BCH/TUSD', 'TROY/USDT', 'VITE/BTC', 'VITE/USDT', 'FTT/USDT', 'BTC/TRY', 'BNB/TRY', 'ETH/TRY', 'XRP/TRY', 'USDT/TRY', 'BTC/EUR', 'ETH/EUR', 'BNB/EUR', 'XRP/EUR', 'EUR/USDT', 'OGN/BTC', 'OGN/USDT', 'DREP/BTC', 'DREP/USDT', 'WRX/USDT', 'LSK/USDT', 'BNT/USDT', 'LTO/BTC', 'LTO/USDT', 'MBL/USDT', 'COTI/BTC', 'COTI/USDT', 'STPT/BTC', 'STPT/USDT', 'BTC/ZAR', 'ETH/ZAR', 'USDT/ZAR', 'DATA/USDT', 'SOL/BNB', 'SOL/BTC', 'SOL/USDT', 'USDT/IDRT', 'CTSI/BTC', 'CTSI/USDT', 'HIVE/BTC', 'HIVE/USDT', 'CHR/BNB', 'CHR/BTC', 'CHR/USDT', 'ARDR/USDT', 'MDT/BTC', 'MDT/USDT', 'STMX/USDT', 'KNC/USDT', 'LRC/USDT', 'PNT/USDT', 'DGB/BTC', 'BTC/UAH', 'USDT/UAH', 'COMP/BTC', 'COMP/USDT', 'BTC/BIDR', 'ETH/BIDR', 'USDT/BIDR', 'SC/USDT', 'ZEN/USDT', 'SXP/BTC', 'SXP/BNB', 'SNX/BTC', 'SNX/USDT', 'VTHO/USDT', 'DGB/USDT', 'SXP/USDT', 'IRIS/BTC', 'MKR/BTC', 'MKR/USDT', 'RUNE/BNB', 'RUNE/BTC', 'DCR/USDT', 'STORJ/USDT', 'FIO/BTC', 'AVA/BTC', 'MANA/USDT', 'BAL/BTC', 'YFI/BTC', 'YFI/USDT', 'BAL/USDT', 'BLZ/USDT', 'IRIS/USDT', 'KMD/USDT', 'BTC/DAI', 'ETH/DAI', 'BNB/DAI', 'USDT/DAI', 'JST/BTC', 'JST/USDT', 'CRV/BTC', 'CRV/USDT', 'SAND/BNB', 'SAND/BTC', 'SAND/USDT', 'OCEAN/BNB', 'OCEAN/BTC', 'OCEAN/USDT', 'NMR/BTC', 'NMR/USDT', 'DOT/BNB', 'DOT/BTC', 'DOT/USDT', 'LUNA/USDT', 'IDEX/BTC', 'RSR/USDT', 'PAXG/BTC', 'PAXG/USDT', 'WNXM/USDT', 'TRB/BTC', 'TRB/USDT', 'WBTC/BTC', 'WBTC/ETH', 'SUSHI/BTC', 'SUSHI/USDT', 'KSM/BTC', 'KSM/USDT', 'EGLD/BNB', 'EGLD/BTC', 'EGLD/USDT', 'DIA/BTC', 'DIA/USDT', 'RUNE/USDT', 'FIO/USDT', 'UMA/BTC', 'UMA/USDT', 'LINK/TRY', 'BEL/BTC', 'BEL/USDT', 'WING/BTC', 'WING/USDT', 'UNI/BNB', 'UNI/BTC', 'UNI/USDT', 'OXT/BTC', 'OXT/USDT', 'SUN/USDT', 'AVAX/BNB', 'AVAX/BTC', 'AVAX/USDT', 'BAKE/BNB', 'FLM/BTC', 'FLM/USDT', 'SCRT/BTC', 'CAKE/BNB', 'ORN/BTC', 'ORN/USDT', 'SXP/TRY', 'UTK/BTC', 'UTK/USDT', 'XVS/BNB', 'XVS/BTC', 'XVS/USDT', 'ALPHA/BTC', 'ALPHA/USDT', 'VIDT/BTC', 'AAVE/BNB', 'BTC/BRL', 'USDT/BRL', 'AAVE/BTC', 'AAVE/ETH', 'AAVE/USDT', 'NEAR/BNB', 'NEAR/BTC', 'NEAR/USDT', 'FIL/BNB', 'FIL/BTC', 'FIL/USDT', 'INJ/BNB', 'INJ/BTC', 'INJ/USDT', 'LINK/EUR', 'AUDIO/BTC', 'AUDIO/USDT', 'CTK/BNB', 'CTK/BTC', 'CTK/USDT', 'ETH/BRL', 'DOT/EUR', 'AKRO/USDT', 'AXS/BNB', 'AXS/BTC', 'AXS/USDT', 'HARD/BTC', 'HARD/USDT', 'BNB/BRL', 'LTC/EUR', 'SLP/ETH', 'ADA/EUR', 'STRAX/BTC', 'STRAX/USDT', 'FOR/BTC', 'UNFI/BTC', 'UNFI/USDT', 'ROSE/BTC', 'ROSE/USDT', 'AVAX/TRY', 'AVA/USDT', 'XEM/USDT', 'XRP/BRL', 'SKL/BTC', 'SKL/USDT', 'BCH/EUR', 'GLM/BTC', 'LINK/BRL', 'TRX/TRY', 'XLM/EUR', 'GRT/BTC', 'GRT/ETH', 'GRT/USDT', 'JUV/USDT', 'PSG/USDT', '1INCH/BTC', '1INCH/USDT', 'REEF/USDT', 'OG/BTC', 'OG/USDT', 'ATM/USDT', 'ASR/USDT', 'CELO/BTC', 'CELO/USDT', 'RIF/BTC', 'RIF/USDT', 'CHZ/TRY', 'XLM/TRY', 'GRT/EUR', 'TRU/BTC', 'TRU/USDT', 'LTC/BRL', 'CKB/USDT', 'TWT/BTC', 'TWT/USDT', 'FIRO/BTC', 'FIRO/USDT', 'DOGE/EUR', 'DOGE/TRY', 'DOGE/BRL', 'LIT/BTC', 'LIT/USDT', 'SFP/BTC', 'SFP/USDT', 'DOT/TRY', 'FXS/BTC', 'DODO/BTC', 'DODO/USDT', 'FRONT/BTC', 'CAKE/BTC', 'CAKE/USDT', 'ACM/USDT', 'AUCTION/BTC', 'PHA/BTC', 'ADA/TRY', 'ADA/BRL', 'BADGER/BTC', 'BADGER/USDT', 'FIS/BTC', 'FIS/USDT', 'DOT/BRL', 'HOT/TRY', 'EGLD/EUR', 'OM/BTC', 'OM/USDT', 'POND/BTC', 'POND/USDT', 'DEGO/BTC', 'DEGO/USDT', 'AVAX/EUR', 'CHZ/BRL', 'ALICE/BTC', 'ALICE/USDT', 'CHZ/EUR', 'LINA/BTC', 'LINA/USDT', 'MATIC/EUR', 'NEO/TRY', 'PERP/BTC', 'PERP/USDT', 'SUPER/BTC', 'SUPER/USDT', 'CFX/BTC', 'CFX/USDT', 'EOS/TRY', 'RVN/TRY', 'TKO/BTC', 'TKO/USDT', 'PUNDIX/USDT', 'WIN/EUR', 'TLM/BTC', 'TLM/USDT', 'BNB/UAH', 'ONT/TRY', 'VET/EUR', 'WIN/BRL', 'BAR/USDT', 'FORTH/BTC', 'FORTH/USDT', 'BAKE/USDT', 'BURGER/USDT', 'SLP/USDT', 'TRX/EUR', 'VET/TRY', 'SHIB/USDT', 'ICP/BTC', 'ICP/BNB', 'ICP/USDT', 'SHIB/EUR', 'AR/BTC', 'AR/USDT', 'POLS/USDT', 'MDX/BTC', 'MDX/USDT', 'MASK/BNB', 'MASK/USDT', 'LPT/BTC', 'LPT/BNB', 'LPT/USDT', 'ETH/UAH', 'MATIC/BRL', 'SOL/EUR', 'SHIB/BRL', 'AGIX/BTC', 'ICP/EUR', 'SHIB/TRY', 'XVG/USDT', 'ATA/BTC', 'ATA/USDT', 'GTC/BTC', 'GTC/USDT', 'MATIC/TRY', 'BAKE/BTC', 'SOL/TRY', 'SOL/BRL', 'ERN/USDT', 'KLAY/BTC', 'KLAY/USDT', 'PHA/USDT', 'BOND/BTC', 'BOND/USDT', 'MLN/BTC', 'MLN/USDT', 'GRT/TRY', 'DEXE/USDT', 'QUICK/BTC', 'C98/USDT', 'C98/BTC', 'CLV/BTC', 'CLV/USDT', 'QNT/BTC', 'QNT/USDT', 'FLOW/BTC', 'FLOW/USDT', 'MINA/BTC', 'MINA/USDT', 'RAY/BNB', 'RAY/USDT', 'FARM/USDT', 'ALPACA/BTC', 'ALPACA/USDT', 'TLM/TRY', 'QUICK/USDT', 'MBOX/BTC', 'MBOX/BNB', 'MBOX/USDT', 'FOR/USDT', 'REQ/USDT', 'GHST/USDT', 'WAXP/USDT', 'WAXP/BTC', 'GNO/USDT', 'ARPA/TRY', 'PROM/BTC', 'XEC/USDT', 'ELF/USDT', 'DYDX/USDT', 'DYDX/BNB', 'DYDX/BTC', 'IDEX/USDT', 'VIDT/USDT', 'USDP/USDT', 'GALA/USDT', 'GALA/BNB', 'GALA/BTC', 'ILV/USDT', 'ILV/BTC', 'YGG/USDT', 'YGG/BTC', 'SYS/USDT', 'DF/USDT', 'SOL/USDC', 'FIDA/USDT', 'FIDA/BTC', 'FRONT/USDT', 'CVP/USDT', 'AGLD/BTC', 'AGLD/USDT', 'RAD/BTC', 'RAD/USDT', 'BETA/BTC', 'BETA/USDT', 'RARE/BTC', 'RARE/USDT', 'AVAX/BRL', 'AXS/ETH', 'FTM/ETH', 'SOL/ETH', 'SSV/BTC', 'SSV/ETH', 'LAZIO/TRY', 'LAZIO/BTC', 'LAZIO/USDT', 'CHESS/BTC', 'CHESS/USDT', 'ADX/USDT', 'AUCTION/USDT', 'REEF/TRY', 'SHIB/DOGE', 'DAR/USDT', 'DAR/BTC', 'BNX/BTC', 'BNX/USDT', 'MANA/TRY', 'MOVR/BTC', 'MOVR/USDT', 'CITY/USDT', 'ENS/BTC', 'ENS/USDT', 'SAND/ETH', 'DOT/ETH', 'MATIC/ETH', 'SAND/TRY', 'KP3R/USDT', 'QI/USDT', 'QI/BTC', 'PORTO/BTC', 'PORTO/USDT', 'PORTO/TRY', 'POWR/USDT', 'AVAX/ETH', 'SLP/TRY', 'LRC/TRY', 'CHR/ETH', 'VGX/USDT', 'GALA/ETH', 'JASMY/USDT', 'AMP/USDT', 'PYR/BTC', 'PYR/USDT', 'RNDR/BTC', 'RNDR/USDT', 'ALCX/BTC', 'ALCX/USDT', 'SANTOS/BTC', 'SANTOS/USDT', 'SANTOS/TRY', 'BEL/TRY', 'DENT/TRY', 'ENJ/TRY', 'BICO/BTC', 'BICO/USDT', 'FLUX/BTC', 'FLUX/USDT', 'ALICE/TRY', 'FXS/USDT', 'GALA/BRL', 'GALA/TRY', 'LUNA/TRY', 'VOXEL/BTC', 'VOXEL/USDT', 'FTM/TRY', 'MINA/TRY', 'HIGH/BTC', 'HIGH/USDT', 'CVX/USDT', 'PEOPLE/BTC', 'PEOPLE/USDT', 'OOKI/USDT', 'LINK/BNB', 'SPELL/USDT', 'JOE/BTC', 'JOE/USDT', 'ATOM/ETH', 'EGLD/ETH', 'ICP/ETH', 'NEAR/ETH', 'ATOM/TRY', 'ACH/BTC', 'ACH/USDT', 'IMX/BTC', 'IMX/USDT', 'GLMR/BTC', 'GLMR/USDT', 'ICP/TRY', 'ROSE/ETH', 'UNI/ETH', 'LOKA/BTC', 'LOKA/USDT', 'ROSE/TRY', 'SCRT/USDT', 'API3/BTC', 'API3/USDT', 'BTTC/USDT', 'BTTC/TRY', 'ACA/BTC', 'ACA/USDT', 'XNO/BTC', 'XNO/USDT', 'COS/TRY', 'ONE/TRY', 'WOO/BTC', 'WOO/USDT', 'SPELL/TRY', 'AXS/TRY', 'DAR/TRY', 'NEAR/TRY', 'ALPINE/TRY', 'ALPINE/USDT', 'ALPINE/BTC', 'T/USDT', 'INJ/TRY', 'ASTR/USDT', 'API3/TRY', 'MBOX/TRY', 'GMT/BTC', 'GMT/USDT', 'ATOM/EUR', 'GALA/EUR', 'UMA/TRY', 'KDA/BTC', 'KDA/USDT', 'APE/USDT', 'APE/BTC', 'NEAR/EUR', 'TWT/TRY', 'APE/TRY', 'BSW/USDT', 'JASMY/TRY', 'BIFI/USDT', 'GMT/EUR', 'RUNE/ETH', 'APE/ETH', 'FIL/TRY', 'FTM/EUR', 'ZIL/TRY', 'GMT/TRY', 'WAVES/TRY', 'ASTR/BTC', 'BSW/TRY', 'STEEM/USDT', 'AUDIO/TRY', 'MOB/USDT', 'MOB/BTC', 'NEXO/USDT', 'NEXO/BTC', 'REI/USDT', 'GAL/USDT', 'GAL/BTC', 'GAL/TRY', 'LDO/USDT', 'LDO/BTC', 'ENS/TRY', 'ALGO/ETH', 'ALGO/TRY', 'EPX/USDT', 'OP/BTC', 'OP/USDT', 'OP/BNB', 'OP/EUR', 'SNX/ETH', 'LEVER/USDT', 'STORJ/TRY', 'OP/ETH', 'ETC/TRY', 'FIL/ETH', 'STG/BTC', 'STG/USDT', 'ANKR/TRY', 'LUNC/USDT', 'GMX/BTC', 'GMX/USDT', 'POLYX/BTC', 'POLYX/USDT', 'APT/BTC', 'APT/USDT', 'BTC/PLN', 'ETH/PLN', 'APT/EUR', 'APT/TRY', 'OSMO/BTC', 'OSMO/USDT', 'HFT/BTC', 'HFT/USDT', 'PHB/USDT', 'HOOK/BTC', 'HOOK/USDT', 'MAGIC/BTC', 'MAGIC/USDT', 'HIFI/USDT', 'RPL/USDT', 'PROS/USDT', 'FET/TRY', 'AGIX/USDT', 'APT/ETH', 'BTC/RON', 'GNS/USDT', 'GNS/BTC', 'SYN/BTC', 'SYN/USDT', 'VIB/USDT', 'SSV/USDT', 'LQTY/USDT', 'LQTY/BTC', 'AMB/USDT', 'CFX/TRY', 'STX/TRY', 'USTC/USDT', 'GAS/USDT', 'GLM/USDT', 'PROM/USDT', 'QKC/USDT', 'UFT/USDT', 'ID/BTC', 'ID/USDT', 'ARB/BTC', 'ARB/USDT', 'AGIX/TRY', 'LOOM/USDT', 'OAX/USDT', 'ARB/TUSD', 'ARB/TRY', 'ARB/EUR', 'ID/TUSD', 'ID/TRY', 'LDO/TUSD', 'MATIC/TUSD', 'OP/TUSD', 'SOL/TUSD', 'SSV/TUSD', 'RDNT/BTC', 'RDNT/USDT', 'RDNT/TUSD', 'JOE/TRY', 'MAGIC/TRY', 'USDT/PLN', 'ACH/TRY', 'XVS/TRY', 'EGLD/RON', 'USDT/RON', 'USDT/ARS', 'DOGE/TUSD', 'WBTC/USDT', 'EDU/USDT', 'EDU/TUSD', 'EDU/BNB', 'EDU/BTC', 'EDU/TRY', 'SUI/USDT', 'SUI/TUSD', 'SUI/BTC', 'SUI/BNB', 'SUI/EUR', 'SUI/TRY', 'AERGO/USDT', 'RNDR/TRY', 'PEPE/USDT', 'PEPE/TUSD', 'FLOKI/USDT', 'OG/TRY', 'PEPE/TRY', 'WBETH/ETH', 'AST/USDT', 'SNT/USDT', 'FLOKI/TRY', 'CITY/TRY', 'COMBO/USDT', 'COMBO/TRY', 'LTC/TRY', 'RAD/TRY', 'BTC/ARS', 'OP/TRY', 'PAXG/TRY', 'MAV/BTC', 'MAV/USDT', 'MAV/TUSD', 'CFX/TUSD', 'PENDLE/BTC', 'PENDLE/USDT', 'PENDLE/TUSD', 'MAV/TRY', 'OCEAN/TRY', 'TUSD/TRY', 'ARB/ETH', 'BCH/TRY', 'XVG/TRY', 'XVG/TUSD', 'ARKM/USDT', 'ARKM/TUSD', 'ARKM/TRY', 'ARKM/BNB', 'ARKM/BTC', 'WBETH/USDT', 'ACA/TRY', 'AVAX/TUSD', 'COMP/TUSD', 'COMP/TRY', 'XEC/TRY', 'WLD/USDT', 'WLD/BTC', 'BNB/FDUSD', 'FDUSD/USDT', 'WLD/TRY', 'AMP/TRY', 'OGN/TRY', 'BTC/FDUSD', 'ETH/FDUSD', 'ASR/TRY', 'ATM/TRY', 'ACM/TRY', 'BAR/TRY', 'JUV/TRY', 'PSG/TRY', 'SEI/BNB', 'SEI/BTC', 'SEI/FDUSD', 'SEI/TRY', 'SEI/USDT', 'CYBER/BNB', 'CYBER/BTC', 'CYBER/FDUSD', 'CYBER/TRY', 'CYBER/USDT', 'CYBER/TUSD', 'SEI/TUSD', 'LPT/TRY', 'UNI/TRY', 'SOL/FDUSD', 'UNFI/TRY', 'XRP/FDUSD', 'DOGE/FDUSD', 'CYBER/ETH', 'MTL/TRY', 'ARK/USDT', 'CREAM/USDT', 'GFT/USDT', 'IQ/USDT', 'ARB/FDUSD', 'FDUSD/TRY', 'FRONT/TRY', 'SUI/FDUSD', 'NTRN/BTC', 'NTRN/USDT', 'NTRN/BNB', 'FIL/FDUSD', 'FRONT/TUSD', 'LEVER/TRY', 'LTC/FDUSD', 'ADA/FDUSD', 'RUNE/TUSD', 'TRB/TRY', 'ATOM/FDUSD', 'AVAX/FDUSD', 'BAND/TRY', 'BCH/FDUSD', 'LOOM/TRY', 'MATIC/FDUSD', 'ALGO/FDUSD', 'DOT/FDUSD', 'FTM/FDUSD', 'LINK/FDUSD', 'NEAR/FDUSD', 'STRAX/TRY', 'TIA/BTC', 'TIA/USDT', 'TIA/TRY', 'MEME/BNB', 'MEME/USDT', 'MEME/FDUSD', 'MEME/TUSD', 'MEME/TRY', 'ORDI/BTC', 'ORDI/USDT', 'ORDI/TRY', 'EGLD/FDUSD', 'FET/FDUSD', 'GAS/FDUSD', 'INJ/ETH', 'INJ/TUSD', 'OP/FDUSD', 'ORDI/FDUSD', 'ORDI/TUSD', 'RNDR/FDUSD', 'SHIB/TUSD', 'BEAMX/USDT', 'ARK/TRY', 'BEAMX/TRY', 'CAKE/TRY', 'CAKE/TUSD', 'DYDX/FDUSD', 'PIVX/USDT', 'RUNE/FDUSD', 'TIA/TUSD', 'DOT/TUSD', 'GALA/FDUSD', 'WLD/FDUSD', 'GAS/TRY', 'NTRN/TRY', 'VIC/BTC', 'VIC/USDT', 'VIC/TRY', 'BLUR/BTC', 'BLUR/USDT', 'BLUR/TRY', 'BLUR/FDUSD', 'SUPER/FDUSD', 'USTC/FDUSD', 'USTC/TRY', 'DYDX/TRY', 'VANRY/USDT', 'VANRY/BTC', 'BTC/AEUR', 'AEUR/USDT', 'ETH/AEUR', 'EUR/AEUR', 'AUCTION/FDUSD', 'IOTA/FDUSD', 'LUNC/TRY', 'SUPER/TRY', 'JTO/USDT', 'JTO/FDUSD', 'JTO/TRY', '1000SATS/USDT', '1000SATS/FDUSD', '1000SATS/TRY', 'SHIB/FDUSD', 'SAND/FDUSD', 'MEME/ETH', 'IOTA/TRY', 'INJ/FDUSD', 'FIDA/TRY', 'BONK/USDT', 'BONK/FDUSD', 'BONK/TRY', 'ACE/FDUSD', 'ACE/USDT', 'ACE/BNB', 'ACE/BTC', 'ACE/TRY', 'BLZ/FDUSD', 'RARE/TRY', 'VANRY/TRY', 'NFP/BTC', 'NFP/USDT', 'NFP/BNB', 'NFP/FDUSD', 'NFP/TUSD', 'NFP/TRY', 'ARB/USDC', 'AVAX/USDC', 'DOT/USDC', 'INJ/USDC', 'MATIC/USDC', 'OP/USDC', 'ORDI/USDC', 'AI/BTC', 'AI/USDT', 'AI/BNB', 'AI/FDUSD', 'AI/TUSD', 'AI/TRY', 'ICP/FDUSD', 'LDO/FDUSD', 'MOVR/TRY', 'XAI/BTC', 'XAI/USDT', 'XAI/BNB', 'XAI/FDUSD', 'XAI/TUSD', 'XAI/TRY', 'SKL/TRY', 'STX/FDUSD', 'TIA/FDUSD', 'MANTA/BTC', 'MANTA/USDT', 'MANTA/BNB', 'MANTA/FDUSD', 'MANTA/TRY', 'ENS/FDUSD', 'ETC/FDUSD', 'SUI/USDC', 'TIA/USDC', 'CHZ/FDUSD', 'MANTA/USDC', 'ALT/BTC', 'ALT/USDT', 'ALT/BNB', 'ALT/FDUSD', 'ALT/TRY', 'APT/FDUSD', 'BLUR/USDC', 'JUP/USDT', 'JUP/FDUSD', 'JUP/TRY', 'ALT/USDC', 'MAGIC/FDUSD', 'SEI/USDC', 'PYTH/BTC', 'PYTH/USDT', 'PYTH/FDUSD', 'PYTH/TRY', 'RONIN/BTC', 'RONIN/USDT', 'RONIN/FDUSD', 'RONIN/TRY', 'DYM/BTC', 'DYM/USDT', 'DYM/FDUSD', 'DYM/TRY', 'JUP/USDC', 'PENDLE/FDUSD', 'PIXEL/BTC', 'PIXEL/BNB', 'PIXEL/USDT', 'PIXEL/FDUSD', 'PIXEL/TRY', 'STRK/BTC', 'STRK/USDT', 'STRK/FDUSD', 'STRK/TRY', 'FIL/USDC', 'HBAR/TRY', 'PENDLE/TRY', 'WLD/USDC', 'CKB/TRY', 'COTI/TRY', 'LDO/TRY', 'UNI/USDC', 'PORTAL/BTC', 'PORTAL/USDT', 'PORTAL/BNB', 'PORTAL/FDUSD', 'PORTAL/TRY', 'PDA/BTC', 'PDA/USDT', 'AXL/BTC', 'AXL/USDT', 'AXL/FDUSD', 'AXL/TRY', 'PEPE/FDUSD', 'PIXEL/USDC', 'STRK/USDC', 'UNI/FDUSD', 'OM/TRY', 'THETA/TRY', 'WIF/BTC', 'WIF/USDT', 'WIF/FDUSD', 'WIF/TRY', 'AGIX/FDUSD', 'PEPE/USDC', 'SHIB/USDC', 'THETA/FDUSD', 'AR/TRY', 'METIS/BTC', 'METIS/USDT', 'METIS/FDUSD', 'METIS/TRY', 'BNB/JPY', 'BTC/JPY', 'ETH/JPY', 'FLOKI/FDUSD', 'GRT/FDUSD', 'NEAR/USDC', 'SNX/TRY', 'AEVO/BTC', 'AEVO/USDT', 'AEVO/BNB', 'AEVO/FDUSD', 'AEVO/TRY', 'BTC/USDT:USDT', 'ETH/USDT:USDT', 'BCH/USDT:USDT', 'XRP/USDT:USDT', 'EOS/USDT:USDT', 'LTC/USDT:USDT', 'TRX/USDT:USDT', 'ETC/USDT:USDT', 'LINK/USDT:USDT', 'XLM/USDT:USDT', 'ADA/USDT:USDT', 'DASH/USDT:USDT', 'ZEC/USDT:USDT', 'XTZ/USDT:USDT', 'BNB/USDT:USDT', 'ATOM/USDT:USDT', 'ONT/USDT:USDT', 'IOTA/USDT:USDT', 'BAT/USDT:USDT', 'VET/USDT:USDT', 'NEO/USDT:USDT', 'QTUM/USDT:USDT', 'IOST/USDT:USDT', 'THETA/USDT:USDT', 'ALGO/USDT:USDT', 'ZIL/USDT:USDT', 'KNC/USDT:USDT', 'ZRX/USDT:USDT', 'COMP/USDT:USDT', 'OMG/USDT:USDT', 'DOGE/USDT:USDT', 'SXP/USDT:USDT', 'KAVA/USDT:USDT', 'BAND/USDT:USDT', 'RLC/USDT:USDT', 'WAVES/USDT:USDT', 'MKR/USDT:USDT', 'SNX/USDT:USDT', 'DOT/USDT:USDT', 'DEFI/USDT:USDT', 'YFI/USDT:USDT', 'BAL/USDT:USDT', 'CRV/USDT:USDT', 'TRB/USDT:USDT', 'RUNE/USDT:USDT', 'SUSHI/USDT:USDT', 'SRM/USDT:USDT', 'EGLD/USDT:USDT', 'SOL/USDT:USDT', 'ICX/USDT:USDT', 'STORJ/USDT:USDT', 'UNI/USDT:USDT', 'AVAX/USDT:USDT', 'FTM/USDT:USDT', 'ENJ/USDT:USDT', 'FLM/USDT:USDT', 'TOMO/USDT:USDT', 'REN/USDT:USDT', 'KSM/USDT:USDT', 'NEAR/USDT:USDT', 'AAVE/USDT:USDT', 'FIL/USDT:USDT', 'RSR/USDT:USDT', 'LRC/USDT:USDT', 'MATIC/USDT:USDT', 'OCEAN/USDT:USDT', 'BEL/USDT:USDT', 'CTK/USDT:USDT', 'AXS/USDT:USDT', 'ALPHA/USDT:USDT', 'ZEN/USDT:USDT', 'SKL/USDT:USDT', 'GRT/USDT:USDT', 'BNT/USDT:USDT', '1INCH/USDT:USDT', 'UNFI/USDT:USDT', 'CHZ/USDT:USDT', 'SAND/USDT:USDT', 'ANKR/USDT:USDT', 'LIT/USDT:USDT', 'REEF/USDT:USDT', 'RVN/USDT:USDT', 'SFP/USDT:USDT', 'XEM/USDT:USDT', 'BTCST/USDT:USDT', 'COTI/USDT:USDT', 'CHR/USDT:USDT', 'MANA/USDT:USDT', 'ALICE/USDT:USDT', 'HBAR/USDT:USDT', 'ONE/USDT:USDT', 'LINA/USDT:USDT', 'STMX/USDT:USDT', 'DENT/USDT:USDT', 'CELR/USDT:USDT', 'HOT/USDT:USDT', 'MTL/USDT:USDT', 'OGN/USDT:USDT', 'NKN/USDT:USDT', 'DGB/USDT:USDT', '1000SHIB/USDT:USDT', 'BAKE/USDT:USDT', 'GTC/USDT:USDT', 'BTCDOM/USDT:USDT', 'MASK/USDT:USDT', 'IOTX/USDT:USDT', 'AUDIO/USDT:USDT', 'C98/USDT:USDT', 'ATA/USDT:USDT', 'DYDX/USDT:USDT', '1000XEC/USDT:USDT', 'GALA/USDT:USDT', 'CELO/USDT:USDT', 'AR/USDT:USDT', 'KLAY/USDT:USDT', 'ARPA/USDT:USDT', 'CTSI/USDT:USDT', 'LPT/USDT:USDT', 'ENS/USDT:USDT', 'PEOPLE/USDT:USDT', 'ANT/USDT:USDT', 'ROSE/USDT:USDT', 'DUSK/USDT:USDT', 'FLOW/USDT:USDT', 'IMX/USDT:USDT', 'API3/USDT:USDT', 'GMT/USDT:USDT', 'APE/USDT:USDT', 'WOO/USDT:USDT', 'JASMY/USDT:USDT', 'DAR/USDT:USDT', 'GAL/USDT:USDT', 'OP/USDT:USDT', 'XMR/USDT:USDT', 'INJ/USDT:USDT', 'STG/USDT:USDT', 'SPELL/USDT:USDT', '1000LUNC/USDT:USDT', 'LUNA2/USDT:USDT', 'LDO/USDT:USDT', 'CVX/USDT:USDT', 'FOOTBALL/USDT:USDT', 'APT/USDT:USDT', 'QNT/USDT:USDT', 'BLUEBIRD/USDT:USDT', 'FXS/USDT:USDT', 'HOOK/USDT:USDT', 'MAGIC/USDT:USDT', 'T/USDT:USDT', 'RNDR/USDT:USDT', 'HIGH/USDT:USDT', 'MINA/USDT:USDT', 'ASTR/USDT:USDT', 'PHB/USDT:USDT', 'AGIX/USDT:USDT', 'FET/USDT:USDT', 'GMX/USDT:USDT', 'CFX/USDT:USDT', 'STX/USDT:USDT', 'BNX/USDT:USDT', 'ACH/USDT:USDT', 'SSV/USDT:USDT', 'CKB/USDT:USDT', 'PERP/USDT:USDT', 'LQTY/USDT:USDT', 'USDC/USDT:USDT', 'ARB/USDT:USDT', 'ID/USDT:USDT', 'JOE/USDT:USDT', 'AMB/USDT:USDT', 'LEVER/USDT:USDT', 'TRU/USDT:USDT', 'RDNT/USDT:USDT', 'ETH/BTC:BTC', 'HFT/USDT:USDT', 'XVS/USDT:USDT', 'BLUR/USDT:USDT', 'EDU/USDT:USDT', 'IDEX/USDT:USDT', '1000PEPE/USDT:USDT', '1000FLOKI/USDT:USDT', 'RAD/USDT:USDT', 'UMA/USDT:USDT', 'KEY/USDT:USDT', 'COMBO/USDT:USDT', 'SUI/USDT:USDT', 'NMR/USDT:USDT', 'MAV/USDT:USDT', 'MDT/USDT:USDT', 'XVG/USDT:USDT', 'WLD/USDT:USDT', 'PENDLE/USDT:USDT', 'ARKM/USDT:USDT', 'AGLD/USDT:USDT', 'YGG/USDT:USDT', 'DODOX/USDT:USDT', 'OXT/USDT:USDT', 'SEI/USDT:USDT', 'CYBER/USDT:USDT', 'HIFI/USDT:USDT', 'ARK/USDT:USDT', 'FRONT/USDT:USDT', 'GLMR/USDT:USDT', 'BICO/USDT:USDT', 'STRAX/USDT:USDT', 'LOOM/USDT:USDT', 'BIGTIME/USDT:USDT', 'BOND/USDT:USDT', 'ORBS/USDT:USDT', 'STPT/USDT:USDT', 'WAXP/USDT:USDT', 'BSV/USDT:USDT', 'RIF/USDT:USDT', 'POLYX/USDT:USDT', 'GAS/USDT:USDT', 'POWR/USDT:USDT', 'SLP/USDT:USDT', 'TIA/USDT:USDT', 'SNT/USDT:USDT', 'CAKE/USDT:USDT', 'MEME/USDT:USDT', 'TOKEN/USDT:USDT', 'ORDI/USDT:USDT', 'STEEM/USDT:USDT', 'BADGER/USDT:USDT', 'ILV/USDT:USDT', 'NTRN/USDT:USDT', 'MBL/USDT:USDT', 'KAS/USDT:USDT', 'BEAMX/USDT:USDT', '1000BONK/USDT:USDT', 'PYTH/USDT:USDT', 'SUPER/USDT:USDT', 'USTC/USDT:USDT', 'ONG/USDT:USDT', 'ETHW/USDT:USDT', 'JTO/USDT:USDT', '1000SATS/USDT:USDT', 'AUCTION/USDT:USDT', '1000RATS/USDT:USDT', 'ACE/USDT:USDT', 'BTC/USDT:USDT-240628', 'MOVR/USDT:USDT', 'TWT/USDT:USDT', 'NFP/USDT:USDT', 'ETH/USDT:USDT-240628', 'BTC/USDC:USDC', 'ETH/USDC:USDC', 'BNB/USDC:USDC', 'XRP/USDC:USDC', 'SOL/USDC:USDC', 'AI/USDT:USDT', 'XAI/USDT:USDT', 'DOGE/USDC:USDC', 'WIF/USDT:USDT', 'MANTA/USDT:USDT', 'ONDO/USDT:USDT', 'LSK/USDT:USDT', 'ALT/USDT:USDT', 'ALT/USDT:USDT-240131', 'ALT/USDT:USDT-240208', 'JUP/USDT:USDT', 'ZETA/USDT:USDT', 'RONIN/USDT:USDT', 'SUI/USDC:USDC', 'DYM/USDT:USDT', 'OM/USDT:USDT', 'LINK/USDC:USDC', 'PIXEL/USDT:USDT', 'ORDI/USDC:USDC', 'STRK/USDT:USDT', 'MAVIA/USDT:USDT', 'GLM/USDT:USDT', 'PORTAL/USDT:USDT', 'TON/USDT:USDT', 'AXL/USDT:USDT', 'MYRO/USDT:USDT', '1000PEPE/USDC:USDC', 'METIS/USDT:USDT', 'AEVO/USDT:USDT', 'WLD/USDC:USDC', 'VANRY/USDT:USDT', 'BOME/USDT:USDT', 'AVAX/USDC:USDC', '1000SHIB/USDC:USDC', 'BTC/USDT:USDT-240927', 'ETH/USDT:USDT-240927', 'ETHFI/USDT:USDT', 'ENA/USDT:USDT', 'BCH/USDC:USDC', 'WIF/USDC:USDC', 'W/USDT:USDT', 'TNSR/USDT:USDT', 'BTC/USD:BTC', 'BTC/USD:BTC-240628', 'BTC/USD:BTC-240927', 'ETH/USD:ETH', 'ETH/USD:ETH-240628', 'ETH/USD:ETH-240927', 'LINK/USD:LINK', 'BNB/USD:BNB', 'TRX/USD:TRX', 'DOT/USD:DOT', 'ADA/USD:ADA', 'EOS/USD:EOS', 'LTC/USD:LTC', 'BCH/USD:BCH', 'XRP/USD:XRP', 'ETC/USD:ETC', 'FIL/USD:FIL', 'EGLD/USD:EGLD', 'DOGE/USD:DOGE', 'ETC/USD:ETC-210924', 'EOS/USD:EOS-210924', 'UNI/USD:UNI', 'THETA/USD:THETA', 'XLM/USD:XLM', 'SOL/USD:SOL', 'FTM/USD:FTM', 'SAND/USD:SAND', 'MANA/USD:MANA', 'AVAX/USD:AVAX', 'MATIC/USD:MATIC', 'NEAR/USD:NEAR', 'ATOM/USD:ATOM', 'AAVE/USD:AAVE', 'AXS/USD:AXS', 'ROSE/USD:ROSE', 'XTZ/USD:XTZ', 'ICX/USD:ICX', 'ALGO/USD:ALGO', 'RUNE/USD:RUNE', 'APE/USD:APE', 'KNC/USD:KNC', 'GMT/USD:GMT', 'OP/USD:OP', 'ENS/USD:ENS', 'CHZ/USD:CHZ', 'APT/USD:APT', 'ADA/USD:ADA-240628', 'LINK/USD:LINK-240628', 'BCH/USD:BCH-240628', 'DOT/USD:DOT-240628', 'XRP/USD:XRP-240628', 'LTC/USD:LTC-240628', 'BNB/USD:BNB-240628', 'ADA/USD:ADA-240927', 'LINK/USD:LINK-240927', 'BCH/USD:BCH-240927', 'DOT/USD:DOT-240927', 'XRP/USD:XRP-240927', 'LTC/USD:LTC-240927', 'BNB/USD:BNB-240927'])"
      ]
     },
     "execution_count": 84,
     "metadata": {},
     "output_type": "execute_result"
    }
   ],
   "source": [
    "all_symbols = exchange.markets.keys()\n",
    "all_symbols"
   ]
  },
  {
   "cell_type": "code",
   "execution_count": 85,
   "metadata": {},
   "outputs": [],
   "source": [
    "from pprint import pprint"
   ]
  },
  {
   "cell_type": "code",
   "execution_count": 86,
   "metadata": {},
   "outputs": [
    {
     "name": "stdout",
     "output_type": "stream",
     "text": [
      "{'active': True,\n",
      " 'base': 'BTC',\n",
      " 'baseId': 'BTC',\n",
      " 'contract': False,\n",
      " 'contractSize': None,\n",
      " 'created': None,\n",
      " 'expiry': None,\n",
      " 'expiryDatetime': None,\n",
      " 'feeSide': 'get',\n",
      " 'future': False,\n",
      " 'id': 'BTCUSDT',\n",
      " 'index': None,\n",
      " 'info': {'allowTrailingStop': True,\n",
      "          'allowedSelfTradePreventionModes': ['NONE',\n",
      "                                              'EXPIRE_TAKER',\n",
      "                                              'EXPIRE_MAKER',\n",
      "                                              'EXPIRE_BOTH'],\n",
      "          'baseAsset': 'BTC',\n",
      "          'baseAssetPrecision': '8',\n",
      "          'baseCommissionPrecision': '8',\n",
      "          'cancelReplaceAllowed': True,\n",
      "          'defaultSelfTradePreventionMode': 'EXPIRE_MAKER',\n",
      "          'filters': [{'filterType': 'PRICE_FILTER',\n",
      "                       'maxPrice': '1000000.00000000',\n",
      "                       'minPrice': '0.01000000',\n",
      "                       'tickSize': '0.01000000'},\n",
      "                      {'filterType': 'LOT_SIZE',\n",
      "                       'maxQty': '9000.00000000',\n",
      "                       'minQty': '0.00001000',\n",
      "                       'stepSize': '0.00001000'},\n",
      "                      {'filterType': 'ICEBERG_PARTS', 'limit': '10'},\n",
      "                      {'filterType': 'MARKET_LOT_SIZE',\n",
      "                       'maxQty': '70.76392865',\n",
      "                       'minQty': '0.00000000',\n",
      "                       'stepSize': '0.00000000'},\n",
      "                      {'filterType': 'TRAILING_DELTA',\n",
      "                       'maxTrailingAboveDelta': '2000',\n",
      "                       'maxTrailingBelowDelta': '2000',\n",
      "                       'minTrailingAboveDelta': '10',\n",
      "                       'minTrailingBelowDelta': '10'},\n",
      "                      {'askMultiplierDown': '0.2',\n",
      "                       'askMultiplierUp': '5',\n",
      "                       'avgPriceMins': '5',\n",
      "                       'bidMultiplierDown': '0.2',\n",
      "                       'bidMultiplierUp': '5',\n",
      "                       'filterType': 'PERCENT_PRICE_BY_SIDE'},\n",
      "                      {'applyMaxToMarket': False,\n",
      "                       'applyMinToMarket': True,\n",
      "                       'avgPriceMins': '5',\n",
      "                       'filterType': 'NOTIONAL',\n",
      "                       'maxNotional': '9000000.00000000',\n",
      "                       'minNotional': '5.00000000'},\n",
      "                      {'filterType': 'MAX_NUM_ORDERS', 'maxNumOrders': '200'},\n",
      "                      {'filterType': 'MAX_NUM_ALGO_ORDERS',\n",
      "                       'maxNumAlgoOrders': '5'}],\n",
      "          'icebergAllowed': True,\n",
      "          'isMarginTradingAllowed': False,\n",
      "          'isSpotTradingAllowed': True,\n",
      "          'ocoAllowed': True,\n",
      "          'orderTypes': ['LIMIT',\n",
      "                         'LIMIT_MAKER',\n",
      "                         'MARKET',\n",
      "                         'STOP_LOSS_LIMIT',\n",
      "                         'TAKE_PROFIT_LIMIT'],\n",
      "          'otoAllowed': False,\n",
      "          'permissionSets': [['SPOT']],\n",
      "          'permissions': [],\n",
      "          'quoteAsset': 'USDT',\n",
      "          'quoteAssetPrecision': '8',\n",
      "          'quoteCommissionPrecision': '8',\n",
      "          'quoteOrderQtyMarketAllowed': True,\n",
      "          'quotePrecision': '8',\n",
      "          'status': 'TRADING',\n",
      "          'symbol': 'BTCUSDT'},\n",
      " 'inverse': None,\n",
      " 'limits': {'amount': {'max': 9000.0, 'min': 1e-05},\n",
      "            'cost': {'max': 9000000.0, 'min': 5.0},\n",
      "            'leverage': {'max': None, 'min': None},\n",
      "            'market': {'max': 70.76392865, 'min': 0.0},\n",
      "            'price': {'max': 1000000.0, 'min': 0.01}},\n",
      " 'linear': None,\n",
      " 'lowercaseId': 'btcusdt',\n",
      " 'maker': 0.001,\n",
      " 'margin': False,\n",
      " 'option': False,\n",
      " 'optionType': None,\n",
      " 'percentage': True,\n",
      " 'precision': {'amount': 5, 'base': 8, 'cost': None, 'price': 2, 'quote': 8},\n",
      " 'quote': 'USDT',\n",
      " 'quoteId': 'USDT',\n",
      " 'settle': None,\n",
      " 'settleId': None,\n",
      " 'spot': True,\n",
      " 'strike': None,\n",
      " 'subType': None,\n",
      " 'swap': False,\n",
      " 'symbol': 'BTC/USDT',\n",
      " 'taker': 0.001,\n",
      " 'tierBased': False,\n",
      " 'type': 'spot'}\n"
     ]
    }
   ],
   "source": [
    "pprint(exchange.markets['BTC/USDT'])"
   ]
  },
  {
   "cell_type": "code",
   "execution_count": 87,
   "metadata": {},
   "outputs": [
    {
     "data": {
      "text/html": [
       "<div>\n",
       "<style scoped>\n",
       "    .dataframe tbody tr th:only-of-type {\n",
       "        vertical-align: middle;\n",
       "    }\n",
       "\n",
       "    .dataframe tbody tr th {\n",
       "        vertical-align: top;\n",
       "    }\n",
       "\n",
       "    .dataframe thead th {\n",
       "        text-align: right;\n",
       "    }\n",
       "</style>\n",
       "<table border=\"1\" class=\"dataframe\">\n",
       "  <thead>\n",
       "    <tr style=\"text-align: right;\">\n",
       "      <th></th>\n",
       "      <th>id</th>\n",
       "      <th>lowercaseId</th>\n",
       "      <th>symbol</th>\n",
       "      <th>base</th>\n",
       "      <th>quote</th>\n",
       "      <th>settle</th>\n",
       "      <th>baseId</th>\n",
       "      <th>quoteId</th>\n",
       "      <th>settleId</th>\n",
       "      <th>type</th>\n",
       "      <th>...</th>\n",
       "      <th>expiryDatetime</th>\n",
       "      <th>strike</th>\n",
       "      <th>optionType</th>\n",
       "      <th>precision</th>\n",
       "      <th>limits</th>\n",
       "      <th>created</th>\n",
       "      <th>info</th>\n",
       "      <th>percentage</th>\n",
       "      <th>feeSide</th>\n",
       "      <th>tierBased</th>\n",
       "    </tr>\n",
       "  </thead>\n",
       "  <tbody>\n",
       "    <tr>\n",
       "      <th>ETH/BTC</th>\n",
       "      <td>ETHBTC</td>\n",
       "      <td>ethbtc</td>\n",
       "      <td>ETH/BTC</td>\n",
       "      <td>ETH</td>\n",
       "      <td>BTC</td>\n",
       "      <td>None</td>\n",
       "      <td>ETH</td>\n",
       "      <td>BTC</td>\n",
       "      <td>None</td>\n",
       "      <td>spot</td>\n",
       "      <td>...</td>\n",
       "      <td>None</td>\n",
       "      <td>None</td>\n",
       "      <td>None</td>\n",
       "      <td>{'amount': 4, 'price': 5, 'cost': None, 'base'...</td>\n",
       "      <td>{'leverage': {'min': None, 'max': None}, 'amou...</td>\n",
       "      <td>None</td>\n",
       "      <td>{'symbol': 'ETHBTC', 'status': 'TRADING', 'bas...</td>\n",
       "      <td>True</td>\n",
       "      <td>get</td>\n",
       "      <td>False</td>\n",
       "    </tr>\n",
       "    <tr>\n",
       "      <th>LTC/BTC</th>\n",
       "      <td>LTCBTC</td>\n",
       "      <td>ltcbtc</td>\n",
       "      <td>LTC/BTC</td>\n",
       "      <td>LTC</td>\n",
       "      <td>BTC</td>\n",
       "      <td>None</td>\n",
       "      <td>LTC</td>\n",
       "      <td>BTC</td>\n",
       "      <td>None</td>\n",
       "      <td>spot</td>\n",
       "      <td>...</td>\n",
       "      <td>None</td>\n",
       "      <td>None</td>\n",
       "      <td>None</td>\n",
       "      <td>{'amount': 3, 'price': 6, 'cost': None, 'base'...</td>\n",
       "      <td>{'leverage': {'min': None, 'max': None}, 'amou...</td>\n",
       "      <td>None</td>\n",
       "      <td>{'symbol': 'LTCBTC', 'status': 'TRADING', 'bas...</td>\n",
       "      <td>True</td>\n",
       "      <td>get</td>\n",
       "      <td>False</td>\n",
       "    </tr>\n",
       "    <tr>\n",
       "      <th>BNB/BTC</th>\n",
       "      <td>BNBBTC</td>\n",
       "      <td>bnbbtc</td>\n",
       "      <td>BNB/BTC</td>\n",
       "      <td>BNB</td>\n",
       "      <td>BTC</td>\n",
       "      <td>None</td>\n",
       "      <td>BNB</td>\n",
       "      <td>BTC</td>\n",
       "      <td>None</td>\n",
       "      <td>spot</td>\n",
       "      <td>...</td>\n",
       "      <td>None</td>\n",
       "      <td>None</td>\n",
       "      <td>None</td>\n",
       "      <td>{'amount': 3, 'price': 6, 'cost': None, 'base'...</td>\n",
       "      <td>{'leverage': {'min': None, 'max': None}, 'amou...</td>\n",
       "      <td>None</td>\n",
       "      <td>{'symbol': 'BNBBTC', 'status': 'TRADING', 'bas...</td>\n",
       "      <td>True</td>\n",
       "      <td>get</td>\n",
       "      <td>False</td>\n",
       "    </tr>\n",
       "    <tr>\n",
       "      <th>BTC/USDT</th>\n",
       "      <td>BTCUSDT</td>\n",
       "      <td>btcusdt</td>\n",
       "      <td>BTC/USDT</td>\n",
       "      <td>BTC</td>\n",
       "      <td>USDT</td>\n",
       "      <td>None</td>\n",
       "      <td>BTC</td>\n",
       "      <td>USDT</td>\n",
       "      <td>None</td>\n",
       "      <td>spot</td>\n",
       "      <td>...</td>\n",
       "      <td>None</td>\n",
       "      <td>None</td>\n",
       "      <td>None</td>\n",
       "      <td>{'amount': 5, 'price': 2, 'cost': None, 'base'...</td>\n",
       "      <td>{'leverage': {'min': None, 'max': None}, 'amou...</td>\n",
       "      <td>None</td>\n",
       "      <td>{'symbol': 'BTCUSDT', 'status': 'TRADING', 'ba...</td>\n",
       "      <td>True</td>\n",
       "      <td>get</td>\n",
       "      <td>False</td>\n",
       "    </tr>\n",
       "    <tr>\n",
       "      <th>ETH/USDT</th>\n",
       "      <td>ETHUSDT</td>\n",
       "      <td>ethusdt</td>\n",
       "      <td>ETH/USDT</td>\n",
       "      <td>ETH</td>\n",
       "      <td>USDT</td>\n",
       "      <td>None</td>\n",
       "      <td>ETH</td>\n",
       "      <td>USDT</td>\n",
       "      <td>None</td>\n",
       "      <td>spot</td>\n",
       "      <td>...</td>\n",
       "      <td>None</td>\n",
       "      <td>None</td>\n",
       "      <td>None</td>\n",
       "      <td>{'amount': 4, 'price': 2, 'cost': None, 'base'...</td>\n",
       "      <td>{'leverage': {'min': None, 'max': None}, 'amou...</td>\n",
       "      <td>None</td>\n",
       "      <td>{'symbol': 'ETHUSDT', 'status': 'TRADING', 'ba...</td>\n",
       "      <td>True</td>\n",
       "      <td>get</td>\n",
       "      <td>False</td>\n",
       "    </tr>\n",
       "    <tr>\n",
       "      <th>...</th>\n",
       "      <td>...</td>\n",
       "      <td>...</td>\n",
       "      <td>...</td>\n",
       "      <td>...</td>\n",
       "      <td>...</td>\n",
       "      <td>...</td>\n",
       "      <td>...</td>\n",
       "      <td>...</td>\n",
       "      <td>...</td>\n",
       "      <td>...</td>\n",
       "      <td>...</td>\n",
       "      <td>...</td>\n",
       "      <td>...</td>\n",
       "      <td>...</td>\n",
       "      <td>...</td>\n",
       "      <td>...</td>\n",
       "      <td>...</td>\n",
       "      <td>...</td>\n",
       "      <td>...</td>\n",
       "      <td>...</td>\n",
       "      <td>...</td>\n",
       "    </tr>\n",
       "    <tr>\n",
       "      <th>BCH/USD:BCH-240927</th>\n",
       "      <td>BCHUSD_240927</td>\n",
       "      <td>bchusd_240927</td>\n",
       "      <td>BCH/USD:BCH-240927</td>\n",
       "      <td>BCH</td>\n",
       "      <td>USD</td>\n",
       "      <td>BCH</td>\n",
       "      <td>BCH</td>\n",
       "      <td>USD</td>\n",
       "      <td>BCH</td>\n",
       "      <td>future</td>\n",
       "      <td>...</td>\n",
       "      <td>2024-09-27T08:00:00.000Z</td>\n",
       "      <td>None</td>\n",
       "      <td>None</td>\n",
       "      <td>{'amount': 0, 'price': 2, 'cost': None, 'base'...</td>\n",
       "      <td>{'leverage': {'min': None, 'max': None}, 'amou...</td>\n",
       "      <td>1711612800000</td>\n",
       "      <td>{'symbol': 'BCHUSD_240927', 'pair': 'BCHUSD', ...</td>\n",
       "      <td>True</td>\n",
       "      <td>get</td>\n",
       "      <td>False</td>\n",
       "    </tr>\n",
       "    <tr>\n",
       "      <th>DOT/USD:DOT-240927</th>\n",
       "      <td>DOTUSD_240927</td>\n",
       "      <td>dotusd_240927</td>\n",
       "      <td>DOT/USD:DOT-240927</td>\n",
       "      <td>DOT</td>\n",
       "      <td>USD</td>\n",
       "      <td>DOT</td>\n",
       "      <td>DOT</td>\n",
       "      <td>USD</td>\n",
       "      <td>DOT</td>\n",
       "      <td>future</td>\n",
       "      <td>...</td>\n",
       "      <td>2024-09-27T08:00:00.000Z</td>\n",
       "      <td>None</td>\n",
       "      <td>None</td>\n",
       "      <td>{'amount': 0, 'price': 3, 'cost': None, 'base'...</td>\n",
       "      <td>{'leverage': {'min': None, 'max': None}, 'amou...</td>\n",
       "      <td>1711612800000</td>\n",
       "      <td>{'symbol': 'DOTUSD_240927', 'pair': 'DOTUSD', ...</td>\n",
       "      <td>True</td>\n",
       "      <td>get</td>\n",
       "      <td>False</td>\n",
       "    </tr>\n",
       "    <tr>\n",
       "      <th>XRP/USD:XRP-240927</th>\n",
       "      <td>XRPUSD_240927</td>\n",
       "      <td>xrpusd_240927</td>\n",
       "      <td>XRP/USD:XRP-240927</td>\n",
       "      <td>XRP</td>\n",
       "      <td>USD</td>\n",
       "      <td>XRP</td>\n",
       "      <td>XRP</td>\n",
       "      <td>USD</td>\n",
       "      <td>XRP</td>\n",
       "      <td>future</td>\n",
       "      <td>...</td>\n",
       "      <td>2024-09-27T08:00:00.000Z</td>\n",
       "      <td>None</td>\n",
       "      <td>None</td>\n",
       "      <td>{'amount': 0, 'price': 4, 'cost': None, 'base'...</td>\n",
       "      <td>{'leverage': {'min': None, 'max': None}, 'amou...</td>\n",
       "      <td>1711612800000</td>\n",
       "      <td>{'symbol': 'XRPUSD_240927', 'pair': 'XRPUSD', ...</td>\n",
       "      <td>True</td>\n",
       "      <td>get</td>\n",
       "      <td>False</td>\n",
       "    </tr>\n",
       "    <tr>\n",
       "      <th>LTC/USD:LTC-240927</th>\n",
       "      <td>LTCUSD_240927</td>\n",
       "      <td>ltcusd_240927</td>\n",
       "      <td>LTC/USD:LTC-240927</td>\n",
       "      <td>LTC</td>\n",
       "      <td>USD</td>\n",
       "      <td>LTC</td>\n",
       "      <td>LTC</td>\n",
       "      <td>USD</td>\n",
       "      <td>LTC</td>\n",
       "      <td>future</td>\n",
       "      <td>...</td>\n",
       "      <td>2024-09-27T08:00:00.000Z</td>\n",
       "      <td>None</td>\n",
       "      <td>None</td>\n",
       "      <td>{'amount': 0, 'price': 2, 'cost': None, 'base'...</td>\n",
       "      <td>{'leverage': {'min': None, 'max': None}, 'amou...</td>\n",
       "      <td>1711612800000</td>\n",
       "      <td>{'symbol': 'LTCUSD_240927', 'pair': 'LTCUSD', ...</td>\n",
       "      <td>True</td>\n",
       "      <td>get</td>\n",
       "      <td>False</td>\n",
       "    </tr>\n",
       "    <tr>\n",
       "      <th>BNB/USD:BNB-240927</th>\n",
       "      <td>BNBUSD_240927</td>\n",
       "      <td>bnbusd_240927</td>\n",
       "      <td>BNB/USD:BNB-240927</td>\n",
       "      <td>BNB</td>\n",
       "      <td>USD</td>\n",
       "      <td>BNB</td>\n",
       "      <td>BNB</td>\n",
       "      <td>USD</td>\n",
       "      <td>BNB</td>\n",
       "      <td>future</td>\n",
       "      <td>...</td>\n",
       "      <td>2024-09-27T08:00:00.000Z</td>\n",
       "      <td>None</td>\n",
       "      <td>None</td>\n",
       "      <td>{'amount': 0, 'price': 3, 'cost': None, 'base'...</td>\n",
       "      <td>{'leverage': {'min': None, 'max': None}, 'amou...</td>\n",
       "      <td>1711612800000</td>\n",
       "      <td>{'symbol': 'BNBUSD_240927', 'pair': 'BNBUSD', ...</td>\n",
       "      <td>True</td>\n",
       "      <td>get</td>\n",
       "      <td>False</td>\n",
       "    </tr>\n",
       "  </tbody>\n",
       "</table>\n",
       "<p>1547 rows × 35 columns</p>\n",
       "</div>"
      ],
      "text/plain": [
       "                               id    lowercaseId              symbol base  \\\n",
       "ETH/BTC                    ETHBTC         ethbtc             ETH/BTC  ETH   \n",
       "LTC/BTC                    LTCBTC         ltcbtc             LTC/BTC  LTC   \n",
       "BNB/BTC                    BNBBTC         bnbbtc             BNB/BTC  BNB   \n",
       "BTC/USDT                  BTCUSDT        btcusdt            BTC/USDT  BTC   \n",
       "ETH/USDT                  ETHUSDT        ethusdt            ETH/USDT  ETH   \n",
       "...                           ...            ...                 ...  ...   \n",
       "BCH/USD:BCH-240927  BCHUSD_240927  bchusd_240927  BCH/USD:BCH-240927  BCH   \n",
       "DOT/USD:DOT-240927  DOTUSD_240927  dotusd_240927  DOT/USD:DOT-240927  DOT   \n",
       "XRP/USD:XRP-240927  XRPUSD_240927  xrpusd_240927  XRP/USD:XRP-240927  XRP   \n",
       "LTC/USD:LTC-240927  LTCUSD_240927  ltcusd_240927  LTC/USD:LTC-240927  LTC   \n",
       "BNB/USD:BNB-240927  BNBUSD_240927  bnbusd_240927  BNB/USD:BNB-240927  BNB   \n",
       "\n",
       "                   quote settle baseId quoteId settleId    type  ...  \\\n",
       "ETH/BTC              BTC   None    ETH     BTC     None    spot  ...   \n",
       "LTC/BTC              BTC   None    LTC     BTC     None    spot  ...   \n",
       "BNB/BTC              BTC   None    BNB     BTC     None    spot  ...   \n",
       "BTC/USDT            USDT   None    BTC    USDT     None    spot  ...   \n",
       "ETH/USDT            USDT   None    ETH    USDT     None    spot  ...   \n",
       "...                  ...    ...    ...     ...      ...     ...  ...   \n",
       "BCH/USD:BCH-240927   USD    BCH    BCH     USD      BCH  future  ...   \n",
       "DOT/USD:DOT-240927   USD    DOT    DOT     USD      DOT  future  ...   \n",
       "XRP/USD:XRP-240927   USD    XRP    XRP     USD      XRP  future  ...   \n",
       "LTC/USD:LTC-240927   USD    LTC    LTC     USD      LTC  future  ...   \n",
       "BNB/USD:BNB-240927   USD    BNB    BNB     USD      BNB  future  ...   \n",
       "\n",
       "                              expiryDatetime strike optionType  \\\n",
       "ETH/BTC                                 None   None       None   \n",
       "LTC/BTC                                 None   None       None   \n",
       "BNB/BTC                                 None   None       None   \n",
       "BTC/USDT                                None   None       None   \n",
       "ETH/USDT                                None   None       None   \n",
       "...                                      ...    ...        ...   \n",
       "BCH/USD:BCH-240927  2024-09-27T08:00:00.000Z   None       None   \n",
       "DOT/USD:DOT-240927  2024-09-27T08:00:00.000Z   None       None   \n",
       "XRP/USD:XRP-240927  2024-09-27T08:00:00.000Z   None       None   \n",
       "LTC/USD:LTC-240927  2024-09-27T08:00:00.000Z   None       None   \n",
       "BNB/USD:BNB-240927  2024-09-27T08:00:00.000Z   None       None   \n",
       "\n",
       "                                                            precision  \\\n",
       "ETH/BTC             {'amount': 4, 'price': 5, 'cost': None, 'base'...   \n",
       "LTC/BTC             {'amount': 3, 'price': 6, 'cost': None, 'base'...   \n",
       "BNB/BTC             {'amount': 3, 'price': 6, 'cost': None, 'base'...   \n",
       "BTC/USDT            {'amount': 5, 'price': 2, 'cost': None, 'base'...   \n",
       "ETH/USDT            {'amount': 4, 'price': 2, 'cost': None, 'base'...   \n",
       "...                                                               ...   \n",
       "BCH/USD:BCH-240927  {'amount': 0, 'price': 2, 'cost': None, 'base'...   \n",
       "DOT/USD:DOT-240927  {'amount': 0, 'price': 3, 'cost': None, 'base'...   \n",
       "XRP/USD:XRP-240927  {'amount': 0, 'price': 4, 'cost': None, 'base'...   \n",
       "LTC/USD:LTC-240927  {'amount': 0, 'price': 2, 'cost': None, 'base'...   \n",
       "BNB/USD:BNB-240927  {'amount': 0, 'price': 3, 'cost': None, 'base'...   \n",
       "\n",
       "                                                               limits  \\\n",
       "ETH/BTC             {'leverage': {'min': None, 'max': None}, 'amou...   \n",
       "LTC/BTC             {'leverage': {'min': None, 'max': None}, 'amou...   \n",
       "BNB/BTC             {'leverage': {'min': None, 'max': None}, 'amou...   \n",
       "BTC/USDT            {'leverage': {'min': None, 'max': None}, 'amou...   \n",
       "ETH/USDT            {'leverage': {'min': None, 'max': None}, 'amou...   \n",
       "...                                                               ...   \n",
       "BCH/USD:BCH-240927  {'leverage': {'min': None, 'max': None}, 'amou...   \n",
       "DOT/USD:DOT-240927  {'leverage': {'min': None, 'max': None}, 'amou...   \n",
       "XRP/USD:XRP-240927  {'leverage': {'min': None, 'max': None}, 'amou...   \n",
       "LTC/USD:LTC-240927  {'leverage': {'min': None, 'max': None}, 'amou...   \n",
       "BNB/USD:BNB-240927  {'leverage': {'min': None, 'max': None}, 'amou...   \n",
       "\n",
       "                          created  \\\n",
       "ETH/BTC                      None   \n",
       "LTC/BTC                      None   \n",
       "BNB/BTC                      None   \n",
       "BTC/USDT                     None   \n",
       "ETH/USDT                     None   \n",
       "...                           ...   \n",
       "BCH/USD:BCH-240927  1711612800000   \n",
       "DOT/USD:DOT-240927  1711612800000   \n",
       "XRP/USD:XRP-240927  1711612800000   \n",
       "LTC/USD:LTC-240927  1711612800000   \n",
       "BNB/USD:BNB-240927  1711612800000   \n",
       "\n",
       "                                                                 info  \\\n",
       "ETH/BTC             {'symbol': 'ETHBTC', 'status': 'TRADING', 'bas...   \n",
       "LTC/BTC             {'symbol': 'LTCBTC', 'status': 'TRADING', 'bas...   \n",
       "BNB/BTC             {'symbol': 'BNBBTC', 'status': 'TRADING', 'bas...   \n",
       "BTC/USDT            {'symbol': 'BTCUSDT', 'status': 'TRADING', 'ba...   \n",
       "ETH/USDT            {'symbol': 'ETHUSDT', 'status': 'TRADING', 'ba...   \n",
       "...                                                               ...   \n",
       "BCH/USD:BCH-240927  {'symbol': 'BCHUSD_240927', 'pair': 'BCHUSD', ...   \n",
       "DOT/USD:DOT-240927  {'symbol': 'DOTUSD_240927', 'pair': 'DOTUSD', ...   \n",
       "XRP/USD:XRP-240927  {'symbol': 'XRPUSD_240927', 'pair': 'XRPUSD', ...   \n",
       "LTC/USD:LTC-240927  {'symbol': 'LTCUSD_240927', 'pair': 'LTCUSD', ...   \n",
       "BNB/USD:BNB-240927  {'symbol': 'BNBUSD_240927', 'pair': 'BNBUSD', ...   \n",
       "\n",
       "                   percentage feeSide tierBased  \n",
       "ETH/BTC                  True     get     False  \n",
       "LTC/BTC                  True     get     False  \n",
       "BNB/BTC                  True     get     False  \n",
       "BTC/USDT                 True     get     False  \n",
       "ETH/USDT                 True     get     False  \n",
       "...                       ...     ...       ...  \n",
       "BCH/USD:BCH-240927       True     get     False  \n",
       "DOT/USD:DOT-240927       True     get     False  \n",
       "XRP/USD:XRP-240927       True     get     False  \n",
       "LTC/USD:LTC-240927       True     get     False  \n",
       "BNB/USD:BNB-240927       True     get     False  \n",
       "\n",
       "[1547 rows x 35 columns]"
      ]
     },
     "execution_count": 87,
     "metadata": {},
     "output_type": "execute_result"
    }
   ],
   "source": [
    "pd.DataFrame(exchange.markets).T"
   ]
  },
  {
   "cell_type": "markdown",
   "metadata": {},
   "source": [
    "# Setting APIs"
   ]
  },
  {
   "cell_type": "code",
   "execution_count": 88,
   "metadata": {},
   "outputs": [
    {
     "data": {
      "text/plain": [
       "{'API Key': '6UUlGLyMNiihtwvMa9SQi3THFG6Y7SD7yZbQL0LAomsXUHzi7ElVDsUYCG4hwMW7',\n",
       " 'Secret Key': 'BKfFZC77mBNagC3fEfQJCIoGW6WqhFX053PiqKZoTPlgZF9AfMivphSxMjbiataq'}"
      ]
     },
     "execution_count": 88,
     "metadata": {},
     "output_type": "execute_result"
    }
   ],
   "source": [
    "# Open the JSON file in read mode\n",
    "with open('Binance Sandbox APIs.json', 'r') as file:\n",
    "    # Load the JSON data\n",
    "    sandboxAPIs = json.load(file)\n",
    "\n",
    "sandboxAPIs"
   ]
  },
  {
   "cell_type": "code",
   "execution_count": 89,
   "metadata": {},
   "outputs": [],
   "source": [
    "exchange.apiKey = sandboxAPIs['API Key']\n",
    "exchange.secret = sandboxAPIs['Secret Key'] "
   ]
  },
  {
   "cell_type": "markdown",
   "metadata": {},
   "source": [
    "## Fetching account balance"
   ]
  },
  {
   "cell_type": "code",
   "execution_count": 97,
   "metadata": {},
   "outputs": [],
   "source": [
    "balance = exchange.fetch_balance()\n",
    "# pprint(balance)"
   ]
  },
  {
   "cell_type": "code",
   "execution_count": 98,
   "metadata": {},
   "outputs": [
    {
     "data": {
      "text/plain": [
       "{'free': 1.0, 'used': 0.0, 'total': 1.0}"
      ]
     },
     "execution_count": 98,
     "metadata": {},
     "output_type": "execute_result"
    }
   ],
   "source": [
    "balance['BTC']"
   ]
  },
  {
   "cell_type": "code",
   "execution_count": 99,
   "metadata": {},
   "outputs": [
    {
     "data": {
      "text/plain": [
       "{'free': 10000.0, 'used': 0.0, 'total': 10000.0}"
      ]
     },
     "execution_count": 99,
     "metadata": {},
     "output_type": "execute_result"
    }
   ],
   "source": [
    "balance['USDT']"
   ]
  },
  {
   "cell_type": "code",
   "execution_count": 100,
   "metadata": {},
   "outputs": [
    {
     "data": {
      "text/plain": [
       "{'free': 1.0, 'used': 0.0, 'total': 1.0}"
      ]
     },
     "execution_count": 100,
     "metadata": {},
     "output_type": "execute_result"
    }
   ],
   "source": [
    "balance['ETH']"
   ]
  },
  {
   "cell_type": "markdown",
   "metadata": {},
   "source": [
    "## Create Orders"
   ]
  },
  {
   "cell_type": "markdown",
   "metadata": {},
   "source": [
    "`createOrder (symbol, type, side, amount, price, params)`"
   ]
  },
  {
   "cell_type": "code",
   "execution_count": 113,
   "metadata": {},
   "outputs": [],
   "source": [
    "order_info = exchange.createOrder('ETH/USDT', 'market', 'buy', 0.1)"
   ]
  },
  {
   "cell_type": "code",
   "execution_count": 114,
   "metadata": {},
   "outputs": [
    {
     "name": "stdout",
     "output_type": "stream",
     "text": [
      "{'amount': 0.1,\n",
      " 'average': 3699.2,\n",
      " 'clientOrderId': 'x-R4BD3S82e72573dff3a0dde00532bb',\n",
      " 'cost': 369.92,\n",
      " 'datetime': '2024-04-09T03:40:50.522Z',\n",
      " 'fee': None,\n",
      " 'fees': [],\n",
      " 'filled': 0.1,\n",
      " 'id': '8668640',\n",
      " 'info': {'clientOrderId': 'x-R4BD3S82e72573dff3a0dde00532bb',\n",
      "          'cummulativeQuoteQty': '369.92000000',\n",
      "          'executedQty': '0.10000000',\n",
      "          'fills': [{'commission': '0.00000000',\n",
      "                     'commissionAsset': 'ETH',\n",
      "                     'price': '3699.20000000',\n",
      "                     'qty': '0.10000000',\n",
      "                     'tradeId': '1796818'}],\n",
      "          'orderId': '8668640',\n",
      "          'orderListId': '-1',\n",
      "          'origQty': '0.10000000',\n",
      "          'price': '0.00000000',\n",
      "          'selfTradePreventionMode': 'EXPIRE_MAKER',\n",
      "          'side': 'BUY',\n",
      "          'status': 'FILLED',\n",
      "          'symbol': 'ETHUSDT',\n",
      "          'timeInForce': 'GTC',\n",
      "          'transactTime': '1712634050522',\n",
      "          'type': 'MARKET',\n",
      "          'workingTime': '1712634050522'},\n",
      " 'lastTradeTimestamp': 1712634050522,\n",
      " 'lastUpdateTimestamp': 1712634050522,\n",
      " 'postOnly': False,\n",
      " 'price': 3699.2,\n",
      " 'reduceOnly': None,\n",
      " 'remaining': 0.0,\n",
      " 'side': 'buy',\n",
      " 'status': 'closed',\n",
      " 'stopLossPrice': None,\n",
      " 'stopPrice': None,\n",
      " 'symbol': 'ETH/USDT',\n",
      " 'takeProfitPrice': None,\n",
      " 'timeInForce': 'GTC',\n",
      " 'timestamp': 1712634050522,\n",
      " 'trades': [{'amount': 0.1,\n",
      "             'cost': 369.92,\n",
      "             'datetime': None,\n",
      "             'fee': {'cost': 0.0, 'currency': 'ETH'},\n",
      "             'fees': [{'cost': 0.0, 'currency': 'ETH'}],\n",
      "             'id': '1796818',\n",
      "             'info': {'commission': '0.00000000',\n",
      "                      'commissionAsset': 'ETH',\n",
      "                      'price': '3699.20000000',\n",
      "                      'qty': '0.10000000',\n",
      "                      'tradeId': '1796818'},\n",
      "             'order': None,\n",
      "             'price': 3699.2,\n",
      "             'side': None,\n",
      "             'symbol': 'ETH/USDT',\n",
      "             'takerOrMaker': None,\n",
      "             'timestamp': None,\n",
      "             'type': None}],\n",
      " 'triggerPrice': None,\n",
      " 'type': 'market'}\n"
     ]
    }
   ],
   "source": [
    "pprint(order_info)"
   ]
  },
  {
   "cell_type": "code",
   "execution_count": 115,
   "metadata": {},
   "outputs": [
    {
     "data": {
      "text/plain": [
       "{'free': 1.1, 'used': 0.0, 'total': 1.1}"
      ]
     },
     "execution_count": 115,
     "metadata": {},
     "output_type": "execute_result"
    }
   ],
   "source": [
    "exchange.fetch_balance()['ETH']"
   ]
  },
  {
   "cell_type": "code",
   "execution_count": 116,
   "metadata": {},
   "outputs": [
    {
     "data": {
      "text/plain": [
       "{'free': 2360.3821931, 'used': 0.0, 'total': 2360.3821931}"
      ]
     },
     "execution_count": 116,
     "metadata": {},
     "output_type": "execute_result"
    }
   ],
   "source": [
    "exchange.fetch_balance()['USDT']"
   ]
  },
  {
   "cell_type": "code",
   "execution_count": 118,
   "metadata": {},
   "outputs": [],
   "source": [
    "order_info = exchange.createOrder('BNB/USDT', 'market', 'sell', 0.1)"
   ]
  },
  {
   "cell_type": "code",
   "execution_count": 119,
   "metadata": {},
   "outputs": [
    {
     "data": {
      "text/plain": [
       "{'info': {'symbol': 'BNBUSDT',\n",
       "  'orderId': '5601772',\n",
       "  'orderListId': '-1',\n",
       "  'clientOrderId': 'x-R4BD3S827e5c51679e23ebbea788b8',\n",
       "  'transactTime': '1712634122162',\n",
       "  'price': '0.00000000',\n",
       "  'origQty': '0.10000000',\n",
       "  'executedQty': '0.10000000',\n",
       "  'cummulativeQuoteQty': '58.25000000',\n",
       "  'status': 'FILLED',\n",
       "  'timeInForce': 'GTC',\n",
       "  'type': 'MARKET',\n",
       "  'side': 'SELL',\n",
       "  'workingTime': '1712634122162',\n",
       "  'fills': [{'price': '582.50000000',\n",
       "    'qty': '0.10000000',\n",
       "    'commission': '0.00000000',\n",
       "    'commissionAsset': 'USDT',\n",
       "    'tradeId': '255069'}],\n",
       "  'selfTradePreventionMode': 'EXPIRE_MAKER'},\n",
       " 'id': '5601772',\n",
       " 'clientOrderId': 'x-R4BD3S827e5c51679e23ebbea788b8',\n",
       " 'timestamp': 1712634122162,\n",
       " 'datetime': '2024-04-09T03:42:02.162Z',\n",
       " 'lastTradeTimestamp': 1712634122162,\n",
       " 'lastUpdateTimestamp': 1712634122162,\n",
       " 'symbol': 'BNB/USDT',\n",
       " 'type': 'market',\n",
       " 'timeInForce': 'GTC',\n",
       " 'postOnly': False,\n",
       " 'reduceOnly': None,\n",
       " 'side': 'sell',\n",
       " 'price': 582.5,\n",
       " 'triggerPrice': None,\n",
       " 'amount': 0.1,\n",
       " 'cost': 58.25,\n",
       " 'average': 582.5,\n",
       " 'filled': 0.1,\n",
       " 'remaining': 0.0,\n",
       " 'status': 'closed',\n",
       " 'fee': None,\n",
       " 'trades': [{'info': {'price': '582.50000000',\n",
       "    'qty': '0.10000000',\n",
       "    'commission': '0.00000000',\n",
       "    'commissionAsset': 'USDT',\n",
       "    'tradeId': '255069'},\n",
       "   'timestamp': None,\n",
       "   'datetime': None,\n",
       "   'symbol': 'BNB/USDT',\n",
       "   'id': '255069',\n",
       "   'order': None,\n",
       "   'type': None,\n",
       "   'side': None,\n",
       "   'takerOrMaker': None,\n",
       "   'price': 582.5,\n",
       "   'amount': 0.1,\n",
       "   'cost': 58.25,\n",
       "   'fee': {'cost': 0.0, 'currency': 'USDT'},\n",
       "   'fees': [{'cost': 0.0, 'currency': 'USDT'}]}],\n",
       " 'fees': [],\n",
       " 'stopPrice': None,\n",
       " 'takeProfitPrice': None,\n",
       " 'stopLossPrice': None}"
      ]
     },
     "execution_count": 119,
     "metadata": {},
     "output_type": "execute_result"
    }
   ],
   "source": [
    "order_info"
   ]
  },
  {
   "cell_type": "code",
   "execution_count": 120,
   "metadata": {},
   "outputs": [
    {
     "data": {
      "text/plain": [
       "{'free': 0.9, 'used': 0.0, 'total': 0.9}"
      ]
     },
     "execution_count": 120,
     "metadata": {},
     "output_type": "execute_result"
    }
   ],
   "source": [
    "exchange.fetch_balance()['BNB']"
   ]
  },
  {
   "cell_type": "markdown",
   "metadata": {},
   "source": [
    "## Cancel Orders"
   ]
  },
  {
   "cell_type": "code",
   "execution_count": 121,
   "metadata": {},
   "outputs": [],
   "source": [
    "order_info = exchange.createOrder('BNB/USDT', 'limit', 'buy', 0.1, 560)"
   ]
  },
  {
   "cell_type": "code",
   "execution_count": 122,
   "metadata": {},
   "outputs": [
    {
     "data": {
      "text/plain": [
       "{'info': {'symbol': 'BNBUSDT',\n",
       "  'orderId': '5601926',\n",
       "  'orderListId': '-1',\n",
       "  'clientOrderId': 'x-R4BD3S828647257d77cb8ec332c705',\n",
       "  'transactTime': '1712634192818',\n",
       "  'price': '560.00000000',\n",
       "  'origQty': '0.10000000',\n",
       "  'executedQty': '0.00000000',\n",
       "  'cummulativeQuoteQty': '0.00000000',\n",
       "  'status': 'NEW',\n",
       "  'timeInForce': 'GTC',\n",
       "  'type': 'LIMIT',\n",
       "  'side': 'BUY',\n",
       "  'workingTime': '1712634192818',\n",
       "  'fills': [],\n",
       "  'selfTradePreventionMode': 'EXPIRE_MAKER'},\n",
       " 'id': '5601926',\n",
       " 'clientOrderId': 'x-R4BD3S828647257d77cb8ec332c705',\n",
       " 'timestamp': 1712634192818,\n",
       " 'datetime': '2024-04-09T03:43:12.818Z',\n",
       " 'lastTradeTimestamp': None,\n",
       " 'lastUpdateTimestamp': 1712634192818,\n",
       " 'symbol': 'BNB/USDT',\n",
       " 'type': 'limit',\n",
       " 'timeInForce': 'GTC',\n",
       " 'postOnly': False,\n",
       " 'reduceOnly': None,\n",
       " 'side': 'buy',\n",
       " 'price': 560.0,\n",
       " 'triggerPrice': None,\n",
       " 'amount': 0.1,\n",
       " 'cost': 0.0,\n",
       " 'average': None,\n",
       " 'filled': 0.0,\n",
       " 'remaining': 0.1,\n",
       " 'status': 'open',\n",
       " 'fee': None,\n",
       " 'trades': [],\n",
       " 'fees': [],\n",
       " 'stopPrice': None,\n",
       " 'takeProfitPrice': None,\n",
       " 'stopLossPrice': None}"
      ]
     },
     "execution_count": 122,
     "metadata": {},
     "output_type": "execute_result"
    }
   ],
   "source": [
    "order_info"
   ]
  },
  {
   "cell_type": "markdown",
   "metadata": {},
   "source": [
    "`fetchOrder (id, symbol, params)`"
   ]
  },
  {
   "cell_type": "code",
   "execution_count": 123,
   "metadata": {},
   "outputs": [],
   "source": [
    "order = exchange.fetchOrder(order_info['id'], 'BNB/USDT')"
   ]
  },
  {
   "cell_type": "code",
   "execution_count": 124,
   "metadata": {},
   "outputs": [
    {
     "data": {
      "text/plain": [
       "{'info': {'symbol': 'BNBUSDT',\n",
       "  'orderId': '5601926',\n",
       "  'orderListId': '-1',\n",
       "  'clientOrderId': 'x-R4BD3S828647257d77cb8ec332c705',\n",
       "  'price': '560.00000000',\n",
       "  'origQty': '0.10000000',\n",
       "  'executedQty': '0.00000000',\n",
       "  'cummulativeQuoteQty': '0.00000000',\n",
       "  'status': 'NEW',\n",
       "  'timeInForce': 'GTC',\n",
       "  'type': 'LIMIT',\n",
       "  'side': 'BUY',\n",
       "  'stopPrice': '0.00000000',\n",
       "  'icebergQty': '0.00000000',\n",
       "  'time': '1712634192818',\n",
       "  'updateTime': '1712634192818',\n",
       "  'isWorking': True,\n",
       "  'workingTime': '1712634192818',\n",
       "  'origQuoteOrderQty': '0.00000000',\n",
       "  'selfTradePreventionMode': 'EXPIRE_MAKER'},\n",
       " 'id': '5601926',\n",
       " 'clientOrderId': 'x-R4BD3S828647257d77cb8ec332c705',\n",
       " 'timestamp': 1712634192818,\n",
       " 'datetime': '2024-04-09T03:43:12.818Z',\n",
       " 'lastTradeTimestamp': None,\n",
       " 'lastUpdateTimestamp': 1712634192818,\n",
       " 'symbol': 'BNB/USDT',\n",
       " 'type': 'limit',\n",
       " 'timeInForce': 'GTC',\n",
       " 'postOnly': False,\n",
       " 'reduceOnly': None,\n",
       " 'side': 'buy',\n",
       " 'price': 560.0,\n",
       " 'triggerPrice': None,\n",
       " 'amount': 0.1,\n",
       " 'cost': 0.0,\n",
       " 'average': None,\n",
       " 'filled': 0.0,\n",
       " 'remaining': 0.1,\n",
       " 'status': 'open',\n",
       " 'fee': None,\n",
       " 'trades': [],\n",
       " 'fees': [],\n",
       " 'stopPrice': None,\n",
       " 'takeProfitPrice': None,\n",
       " 'stopLossPrice': None}"
      ]
     },
     "execution_count": 124,
     "metadata": {},
     "output_type": "execute_result"
    }
   ],
   "source": [
    "order"
   ]
  },
  {
   "cell_type": "markdown",
   "metadata": {},
   "source": [
    "`cancelOrder (id, symbol, params)`"
   ]
  },
  {
   "cell_type": "code",
   "execution_count": 125,
   "metadata": {},
   "outputs": [],
   "source": [
    "cancel_order = exchange.cancelOrder(order_info['id'], 'BNB/USDT')"
   ]
  },
  {
   "cell_type": "code",
   "execution_count": 126,
   "metadata": {},
   "outputs": [
    {
     "data": {
      "text/plain": [
       "{'info': {'symbol': 'BNBUSDT',\n",
       "  'origClientOrderId': 'x-R4BD3S828647257d77cb8ec332c705',\n",
       "  'orderId': '5601926',\n",
       "  'orderListId': '-1',\n",
       "  'clientOrderId': 'fcFDP8sYOxlPxMCjbr5WCD',\n",
       "  'transactTime': '1712634324794',\n",
       "  'price': '560.00000000',\n",
       "  'origQty': '0.10000000',\n",
       "  'executedQty': '0.00000000',\n",
       "  'cummulativeQuoteQty': '0.00000000',\n",
       "  'status': 'CANCELED',\n",
       "  'timeInForce': 'GTC',\n",
       "  'type': 'LIMIT',\n",
       "  'side': 'BUY',\n",
       "  'selfTradePreventionMode': 'EXPIRE_MAKER'},\n",
       " 'id': '5601926',\n",
       " 'clientOrderId': 'fcFDP8sYOxlPxMCjbr5WCD',\n",
       " 'timestamp': 1712634324794,\n",
       " 'datetime': '2024-04-09T03:45:24.794Z',\n",
       " 'lastTradeTimestamp': None,\n",
       " 'lastUpdateTimestamp': 1712634324794,\n",
       " 'symbol': 'BNB/USDT',\n",
       " 'type': 'limit',\n",
       " 'timeInForce': 'GTC',\n",
       " 'postOnly': False,\n",
       " 'reduceOnly': None,\n",
       " 'side': 'buy',\n",
       " 'price': 560.0,\n",
       " 'triggerPrice': None,\n",
       " 'amount': 0.1,\n",
       " 'cost': 0.0,\n",
       " 'average': None,\n",
       " 'filled': 0.0,\n",
       " 'remaining': 0.1,\n",
       " 'status': 'canceled',\n",
       " 'fee': None,\n",
       " 'trades': [],\n",
       " 'fees': [],\n",
       " 'stopPrice': None,\n",
       " 'takeProfitPrice': None,\n",
       " 'stopLossPrice': None}"
      ]
     },
     "execution_count": 126,
     "metadata": {},
     "output_type": "execute_result"
    }
   ],
   "source": [
    "cancel_order"
   ]
  },
  {
   "cell_type": "code",
   "execution_count": 127,
   "metadata": {},
   "outputs": [
    {
     "data": {
      "text/plain": [
       "{'info': {'symbol': 'BNBUSDT',\n",
       "  'orderId': '5601926',\n",
       "  'orderListId': '-1',\n",
       "  'clientOrderId': 'x-R4BD3S828647257d77cb8ec332c705',\n",
       "  'price': '560.00000000',\n",
       "  'origQty': '0.10000000',\n",
       "  'executedQty': '0.00000000',\n",
       "  'cummulativeQuoteQty': '0.00000000',\n",
       "  'status': 'CANCELED',\n",
       "  'timeInForce': 'GTC',\n",
       "  'type': 'LIMIT',\n",
       "  'side': 'BUY',\n",
       "  'stopPrice': '0.00000000',\n",
       "  'icebergQty': '0.00000000',\n",
       "  'time': '1712634192818',\n",
       "  'updateTime': '1712634324794',\n",
       "  'isWorking': True,\n",
       "  'workingTime': '1712634192818',\n",
       "  'origQuoteOrderQty': '0.00000000',\n",
       "  'selfTradePreventionMode': 'EXPIRE_MAKER'},\n",
       " 'id': '5601926',\n",
       " 'clientOrderId': 'x-R4BD3S828647257d77cb8ec332c705',\n",
       " 'timestamp': 1712634192818,\n",
       " 'datetime': '2024-04-09T03:43:12.818Z',\n",
       " 'lastTradeTimestamp': None,\n",
       " 'lastUpdateTimestamp': 1712634324794,\n",
       " 'symbol': 'BNB/USDT',\n",
       " 'type': 'limit',\n",
       " 'timeInForce': 'GTC',\n",
       " 'postOnly': False,\n",
       " 'reduceOnly': None,\n",
       " 'side': 'buy',\n",
       " 'price': 560.0,\n",
       " 'triggerPrice': None,\n",
       " 'amount': 0.1,\n",
       " 'cost': 0.0,\n",
       " 'average': None,\n",
       " 'filled': 0.0,\n",
       " 'remaining': 0.1,\n",
       " 'status': 'canceled',\n",
       " 'fee': None,\n",
       " 'trades': [],\n",
       " 'fees': [],\n",
       " 'stopPrice': None,\n",
       " 'takeProfitPrice': None,\n",
       " 'stopLossPrice': None}"
      ]
     },
     "execution_count": 127,
     "metadata": {},
     "output_type": "execute_result"
    }
   ],
   "source": [
    "exchange.fetchOrder(order_info['id'], 'BNB/USDT')"
   ]
  }
 ],
 "metadata": {
  "kernelspec": {
   "display_name": "tokenmetrics",
   "language": "python",
   "name": "python3"
  },
  "language_info": {
   "codemirror_mode": {
    "name": "ipython",
    "version": 3
   },
   "file_extension": ".py",
   "mimetype": "text/x-python",
   "name": "python",
   "nbconvert_exporter": "python",
   "pygments_lexer": "ipython3",
   "version": "3.10.13"
  }
 },
 "nbformat": 4,
 "nbformat_minor": 2
}
